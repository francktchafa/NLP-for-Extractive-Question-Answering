{
 "cells": [
  {
   "cell_type": "code",
   "execution_count": 1,
   "metadata": {
    "ExecuteTime": {
     "end_time": "2025-05-06T01:11:55.749323Z",
     "start_time": "2025-05-06T01:11:50.755288Z"
    },
    "colab": {
     "base_uri": "https://localhost:8080/"
    },
    "id": "XxU0G_PYLSXJ",
    "outputId": "44e7877f-5c33-45fc-ed83-3aa4920dcc40"
   },
   "outputs": [],
   "source": [
    "\"\"\"\n",
    "Transformer Network Application: Extractive Question Answering\n",
    "\"\"\"\n",
    "import os\n",
    "import tensorflow as tf\n",
    "from tensorflow.keras.losses import SparseCategoricalCrossentropy\n",
    "from tensorflow.keras.optimizers import Adam\n",
    "from transformers import DistilBertTokenizerFast\n",
    "from transformers import TFDistilBertForQuestionAnswering\n",
    "from datasets import load_from_disk\n",
    "import matplotlib.pyplot as plt"
   ]
  },
  {
   "cell_type": "code",
   "execution_count": 2,
   "metadata": {
    "ExecuteTime": {
     "end_time": "2025-05-06T01:11:57.957681Z",
     "start_time": "2025-05-06T01:11:57.933292Z"
    },
    "collapsed": false,
    "jupyter": {
     "outputs_hidden": false
    }
   },
   "outputs": [],
   "source": [
    "# DATASET\n",
    "# Load the dataset previously saved to disk using Hugging Face's save_to_disk method.\n",
    "ds_path = os.path.join(os.getcwd(), \"data\")\n",
    "babi_dataset = load_from_disk(ds_path)"
   ]
  },
  {
   "cell_type": "code",
   "execution_count": 3,
   "metadata": {
    "ExecuteTime": {
     "end_time": "2025-05-06T01:11:59.842361Z",
     "start_time": "2025-05-06T01:11:59.837227Z"
    },
    "colab": {
     "base_uri": "https://localhost:8080/"
    },
    "id": "aizPXfGlLZ1D",
    "outputId": "0e1d47bc-9c1a-458a-983e-22f47f8184bd"
   },
   "outputs": [
    {
     "data": {
      "text/plain": [
       "DatasetDict({\n",
       "    train: Dataset({\n",
       "        features: ['story'],\n",
       "        num_rows: 1000\n",
       "    })\n",
       "    test: Dataset({\n",
       "        features: ['story'],\n",
       "        num_rows: 1000\n",
       "    })\n",
       "})"
      ]
     },
     "execution_count": 3,
     "metadata": {},
     "output_type": "execute_result"
    }
   ],
   "source": [
    "babi_dataset"
   ]
  },
  {
   "cell_type": "code",
   "execution_count": 4,
   "metadata": {
    "ExecuteTime": {
     "end_time": "2025-05-06T01:12:00.236641Z",
     "start_time": "2025-05-06T01:12:00.232834Z"
    },
    "collapsed": false,
    "jupyter": {
     "outputs_hidden": false
    }
   },
   "outputs": [
    {
     "data": {
      "text/plain": [
       "{'story': {'answer': ['', '', 'office'],\n",
       "  'id': ['1', '2', '3'],\n",
       "  'supporting_ids': [[], [], ['1']],\n",
       "  'text': ['The office is north of the kitchen.',\n",
       "   'The garden is south of the kitchen.',\n",
       "   'What is north of the kitchen?'],\n",
       "  'type': [0, 0, 1]}}"
      ]
     },
     "execution_count": 4,
     "metadata": {},
     "output_type": "execute_result"
    }
   ],
   "source": [
    "babi_dataset['train'][0]"
   ]
  },
  {
   "cell_type": "markdown",
   "metadata": {
    "id": "ewtXZUPjMm2l"
   },
   "source": [
    "Note:\n",
    "id: Represents a unique identifier for each sentence or entry in the story.\n",
    "\n",
    "'id': ['1', '2', '3']\n",
    "Sentence 1: \"The bedroom is west of the office.\"\n",
    "Sentence 2: \"The bedroom is east of the hallway.\"\n",
    "Sentence 3: \"What is east of the hallway?\"\n",
    "\n",
    "\n",
    "supporting_ids\n",
    "Refers to the IDs of other sentences or entries in the dataset that provide supporting evidence for a particular text answer.\n",
    "For instance, in a question-answering task:\n",
    "Supporting sentences provide context to derive the answer.\n",
    "Example: 'supporting_ids': [[], [], ['2']\n",
    "Sentence 1: No supporting sentences needed (empty list).\n",
    "Sentence 2: No supporting sentences needed (empty list).\n",
    "Sentence 3: Relies on sentence 2 (\"The bedroom is east of the hallway.\") to answer the question \"What is east of the hallway?\"\n",
    "\n",
    "\n",
    "type\n",
    "Indicates the category or purpose of each sentence in the dataset.\n",
    "0: Declarative sentences or facts.\n",
    "1: Questions or queries.\n",
    "Example: 'type': [0, 0, 1]\n",
    "Sentence 1: Declarative sentence (type = 0).\n",
    "Sentence 2: Declarative sentence (type = 0).\n",
    "Sentence 3: Question (type = 1)."
   ]
  },
  {
   "cell_type": "code",
   "execution_count": 5,
   "metadata": {
    "ExecuteTime": {
     "end_time": "2025-05-06T01:12:00.767784Z",
     "start_time": "2025-05-06T01:12:00.728300Z"
    },
    "id": "55BSWxwuM1hN"
   },
   "outputs": [],
   "source": [
    "type_set = set()\n",
    "for story in babi_dataset['train']:\n",
    "    if str(story['story']['type'] ) not in type_set:\n",
    "        type_set.add(str(story['story']['type'] ))"
   ]
  },
  {
   "cell_type": "code",
   "execution_count": 6,
   "metadata": {
    "ExecuteTime": {
     "end_time": "2025-05-06T01:12:00.937673Z",
     "start_time": "2025-05-06T01:12:00.935328Z"
    },
    "colab": {
     "base_uri": "https://localhost:8080/"
    },
    "id": "bdJ8VMF1UT7S",
    "outputId": "2b959467-75e8-4e25-e7bb-481b657a2fce"
   },
   "outputs": [
    {
     "data": {
      "text/plain": [
       "{'[0, 0, 1]'}"
      ]
     },
     "execution_count": 6,
     "metadata": {},
     "output_type": "execute_result"
    }
   ],
   "source": [
    "type_set"
   ]
  },
  {
   "cell_type": "code",
   "execution_count": 7,
   "metadata": {
    "ExecuteTime": {
     "end_time": "2025-05-06T01:12:01.110072Z",
     "start_time": "2025-05-06T01:12:01.104990Z"
    },
    "id": "YxixFI-pVOK9"
   },
   "outputs": [
    {
     "data": {
      "text/plain": [
       "DatasetDict({\n",
       "    train: Dataset({\n",
       "        features: ['story.answer', 'story.id', 'story.supporting_ids', 'story.text', 'story.type'],\n",
       "        num_rows: 1000\n",
       "    })\n",
       "    test: Dataset({\n",
       "        features: ['story.answer', 'story.id', 'story.supporting_ids', 'story.text', 'story.type'],\n",
       "        num_rows: 1000\n",
       "    })\n",
       "})"
      ]
     },
     "execution_count": 7,
     "metadata": {},
     "output_type": "execute_result"
    }
   ],
   "source": [
    "# Flatten the dataset to transform it from a dictionary structure to a table structure to make it easier to work with.\n",
    "flattened_babi = babi_dataset.flatten()\n",
    "flattened_babi"
   ]
  },
  {
   "cell_type": "code",
   "execution_count": 8,
   "metadata": {
    "ExecuteTime": {
     "end_time": "2025-05-06T01:12:01.287471Z",
     "start_time": "2025-05-06T01:12:01.285016Z"
    },
    "colab": {
     "base_uri": "https://localhost:8080/"
    },
    "id": "OQw59MgT6Luh",
    "outputId": "ea5eac53-027e-42d3-d19f-98ed7863de2b"
   },
   "outputs": [
    {
     "data": {
      "text/plain": [
       "{'story.answer': ['', '', 'office'],\n",
       " 'story.id': ['1', '2', '3'],\n",
       " 'story.supporting_ids': [[], [], ['1']],\n",
       " 'story.text': ['The office is north of the kitchen.',\n",
       "  'The garden is south of the kitchen.',\n",
       "  'What is north of the kitchen?'],\n",
       " 'story.type': [0, 0, 1]}"
      ]
     },
     "execution_count": 8,
     "metadata": {},
     "output_type": "execute_result"
    }
   ],
   "source": [
    "next(iter(flattened_babi['train']))"
   ]
  },
  {
   "cell_type": "code",
   "execution_count": 9,
   "metadata": {
    "ExecuteTime": {
     "end_time": "2025-05-06T01:12:01.481190Z",
     "start_time": "2025-05-06T01:12:01.478721Z"
    },
    "id": "O5NcABwkdbrf"
   },
   "outputs": [],
   "source": [
    "# Extract the answer, question, and facts from the story, and join the facts into a single entry under 'sentences'.\n",
    "def get_question_and_facts(story):\n",
    "    \"\"\"\n",
    "    Processes a story to extract the question, facts, and answer. \n",
    "    All facts are joined under a single string (stored under 'sentences').\n",
    "    \n",
    "    Arguments:\n",
    "        story (dict): A dictionary containing the story data with the following keys:\n",
    "            - 'story.text' (list of str): A list where each string is a sentence in the story.\n",
    "            - 'story.answer' (list of str): A list where each string is an answer corresponding to a sentence.\n",
    "\n",
    "    Returns:\n",
    "        dict: A dictionary containing:\n",
    "            - 'question' (str): The question extracted from the story (last index in sentences).\n",
    "            - 'sentences' (str): A single string combining all sentences of the story except the last one.\n",
    "            - 'answer' (str): The answer to the extracted question.\n",
    "    \"\"\"\n",
    "\n",
    "    dic = {}\n",
    "\n",
    "    # Extract the question (assumes it is the last index of 'story.text')\n",
    "    dic['question'] = story['story.text'][-1]\n",
    "\n",
    "    # Combine the sentences into one string under 'sentences'\n",
    "    dic['sentences'] = ' '.join([sentences for sentences in story['story.text'][:-1]])\n",
    "\n",
    "    # Extract the corresponding answer for the question (assumes it is at the last index of 'story.answer')\n",
    "    dic['answer'] = story['story.answer'][-1]\n",
    "\n",
    "    return dic"
   ]
  },
  {
   "cell_type": "code",
   "execution_count": 10,
   "metadata": {
    "ExecuteTime": {
     "end_time": "2025-05-06T01:12:01.671059Z",
     "start_time": "2025-05-06T01:12:01.664096Z"
    },
    "colab": {
     "base_uri": "https://localhost:8080/",
     "height": 115,
     "referenced_widgets": [
      "44b7bea3e09d4e5684921c66dd4c7514",
      "6af3ec5091d74bd1a95bf02a87dd240b",
      "7e1325e57bf9417e93d7ef180794ab3c",
      "3dab28395f3f475d8242e4d4d45ed059",
      "ca722dcd857c433c9058585e31a1673d",
      "7fb1118c0b4443b6b6dbb5803e9ec2e8",
      "58718e12f1b7459989ab5296846c4be6",
      "63b4ebafcead4c0784b5511219a6a198",
      "c42644a4e6184a1cbdb2b453b5dbb7d6",
      "364ba960eb474c9084cc71851594d345",
      "e8f1abd85f3e49f991d4c1312ffd416b",
      "929946fdfaa04cf59d3b31cf92fc08d1",
      "aa5c0d374889482697fc0f7ce9c81afe",
      "ff444b253e9a40e5bec755926d83740f",
      "89fdda6e6688476495ca297bfe010bf8",
      "cda72c45821a4eb89f1a3ab5510b26d3"
     ]
    },
    "id": "LHKNQ75afMoZ",
    "outputId": "6ceeae5c-392c-4553-c487-14a648eb9209"
   },
   "outputs": [],
   "source": [
    "processed = flattened_babi.map(get_question_and_facts)"
   ]
  },
  {
   "cell_type": "code",
   "execution_count": 11,
   "metadata": {
    "ExecuteTime": {
     "end_time": "2025-05-06T01:12:05.626825Z",
     "start_time": "2025-05-06T01:12:05.623233Z"
    },
    "colab": {
     "base_uri": "https://localhost:8080/"
    },
    "id": "KaTacKMufPba",
    "outputId": "2433d446-e985-45cd-a200-f9805b4056bd"
   },
   "outputs": [
    {
     "data": {
      "text/plain": [
       "{'story.answer': ['', '', 'office'],\n",
       " 'story.id': ['1', '2', '3'],\n",
       " 'story.supporting_ids': [[], [], ['1']],\n",
       " 'story.text': ['The office is north of the kitchen.',\n",
       "  'The garden is south of the kitchen.',\n",
       "  'What is north of the kitchen?'],\n",
       " 'story.type': [0, 0, 1],\n",
       " 'question': 'What is north of the kitchen?',\n",
       " 'sentences': 'The office is north of the kitchen. The garden is south of the kitchen.',\n",
       " 'answer': 'office'}"
      ]
     },
     "execution_count": 11,
     "metadata": {},
     "output_type": "execute_result"
    }
   ],
   "source": [
    "processed['train'][0]"
   ]
  },
  {
   "cell_type": "code",
   "execution_count": 12,
   "metadata": {
    "ExecuteTime": {
     "end_time": "2025-05-06T01:12:12.686787Z",
     "start_time": "2025-05-06T01:12:12.683966Z"
    },
    "colab": {
     "base_uri": "https://localhost:8080/"
    },
    "id": "IOrYr5LI0pbP",
    "outputId": "8142f23c-7dab-49b9-8027-fbe7364ae4e9"
   },
   "outputs": [
    {
     "data": {
      "text/plain": [
       "{'story.answer': ['', '', 'bedroom'],\n",
       " 'story.id': ['1', '2', '3'],\n",
       " 'story.supporting_ids': [[], [], ['2']],\n",
       " 'story.text': ['The hallway is east of the bathroom.',\n",
       "  'The bedroom is west of the bathroom.',\n",
       "  'What is the bathroom east of?'],\n",
       " 'story.type': [0, 0, 1],\n",
       " 'question': 'What is the bathroom east of?',\n",
       " 'sentences': 'The hallway is east of the bathroom. The bedroom is west of the bathroom.',\n",
       " 'answer': 'bedroom'}"
      ]
     },
     "execution_count": 12,
     "metadata": {},
     "output_type": "execute_result"
    }
   ],
   "source": [
    "processed['test'][0]"
   ]
  },
  {
   "cell_type": "markdown",
   "metadata": {
    "id": "oN7D3fszM2hy"
   },
   "source": [
    "The goal of extractive QA is to find the part of the text that contains the answer to the question. \n",
    "For example, if the answer to some question was 'bathroom', you would need to find the start and end \n",
    "string indices of the  word 'bathroom' in the context sentence 'The hallway is east of the bathroom. \n",
    "The bedroom is west of the bathroom.' Let's identify the position of the answer using indexes of the string. "
   ]
  },
  {
   "cell_type": "code",
   "execution_count": 13,
   "metadata": {
    "ExecuteTime": {
     "end_time": "2025-05-06T01:12:15.793153Z",
     "start_time": "2025-05-06T01:12:15.789923Z"
    },
    "id": "J1JJx3PafSyR"
   },
   "outputs": [],
   "source": [
    "def get_start_end_idx(story):\n",
    "    \"\"\"\n",
    "    Identifies the start and end string indices of the answer within a given context.\n",
    "\n",
    "    This function is designed for extractive Question Answering (QA) tasks, where the goal is \n",
    "    to find the exact portion of the text that contains the answer to a given question. It works \n",
    "    by locating the starting index of the answer in the context and calculating the ending index \n",
    "    based on the answer's length.\n",
    "\n",
    "    Args:\n",
    "        story (dict): A dictionary containing:\n",
    "            - 'sentences' (str): The context or passage text where the answer is located.\n",
    "            - 'answer' (str): The target word or phrase to locate in the context.\n",
    "\n",
    "    Returns:\n",
    "        dict: A dictionary containing:\n",
    "            - 'str_idx' (int): The starting index of the answer in the context text.\n",
    "            - 'end_idx' (int): The ending index of the answer in the context text (exclusive).\n",
    "    \"\"\"\n",
    "    \n",
    "    # Find the starting index of the answer in the context string\n",
    "    str_idx = story['sentences'].find(story['answer'])\n",
    "    \n",
    "    # Calculate the ending index based on the answer's length\n",
    "    end_idx = str_idx + len(story['answer'])\n",
    "    \n",
    "    # Return the start and end indices as a dictionary\n",
    "    return {\n",
    "        'str_idx': str_idx,\n",
    "        'end_idx': end_idx\n",
    "    }"
   ]
  },
  {
   "cell_type": "code",
   "execution_count": 14,
   "metadata": {
    "ExecuteTime": {
     "end_time": "2025-05-06T01:12:18.787820Z",
     "start_time": "2025-05-06T01:12:18.781282Z"
    },
    "colab": {
     "base_uri": "https://localhost:8080/",
     "height": 115,
     "referenced_widgets": [
      "8968319cdaca476fb15c11a388dce39a",
      "863c5ce96db84e3da162072c9a13c913",
      "a725734893004a45b61194f649f5f602",
      "c4a24656d67844e995d3b8e175c6c497",
      "4f5b06c3a5e44c6cade5bf83634d9f69",
      "afc33fa78b5d440192c435bfca6f7914",
      "f37bd346f8614fec92d6c5b5e9b66d2f",
      "b4c6a18610734036a16a14a43174c52e",
      "07aaa9b79a744856b19d723370d6e588",
      "afedd2328cf141f78775e4cfa7758267",
      "b39b85d8cb05418aa92e8476ad02f755",
      "0a8534ac52af4d48ad82b66463ad08c3",
      "3abb36da57c841838867c56e2a3a325b",
      "8b961844b5004905922531bd805a9d57",
      "31fc08a1e7e04f6b9b3ea400ccfaea75",
      "8cfbd3b14b23417993270f851a2d8ff9"
     ]
    },
    "id": "4e7BdgJJhwXi",
    "outputId": "d9c7a923-d2eb-4533-f37e-4f269f22eb89"
   },
   "outputs": [],
   "source": [
    "processed = processed.map(get_start_end_idx)"
   ]
  },
  {
   "cell_type": "code",
   "execution_count": 15,
   "metadata": {
    "ExecuteTime": {
     "end_time": "2025-05-06T01:12:19.387248Z",
     "start_time": "2025-05-06T01:12:19.384609Z"
    },
    "collapsed": false,
    "jupyter": {
     "outputs_hidden": false
    }
   },
   "outputs": [
    {
     "data": {
      "text/plain": [
       "{'story.answer': ['', '', 'bedroom'],\n",
       " 'story.id': ['1', '2', '3'],\n",
       " 'story.supporting_ids': [[], [], ['2']],\n",
       " 'story.text': ['The hallway is east of the bathroom.',\n",
       "  'The bedroom is west of the bathroom.',\n",
       "  'What is the bathroom east of?'],\n",
       " 'story.type': [0, 0, 1],\n",
       " 'question': 'What is the bathroom east of?',\n",
       " 'sentences': 'The hallway is east of the bathroom. The bedroom is west of the bathroom.',\n",
       " 'answer': 'bedroom',\n",
       " 'str_idx': 41,\n",
       " 'end_idx': 48}"
      ]
     },
     "execution_count": 15,
     "metadata": {},
     "output_type": "execute_result"
    }
   ],
   "source": [
    "processed['test'][0]"
   ]
  },
  {
   "cell_type": "code",
   "execution_count": 16,
   "metadata": {
    "ExecuteTime": {
     "end_time": "2025-05-06T01:12:21.898669Z",
     "start_time": "2025-05-06T01:12:21.896098Z"
    },
    "colab": {
     "base_uri": "https://localhost:8080/"
    },
    "id": "P8ytxyfvh0kB",
    "outputId": "c008b161-be24-40bb-a32d-47d92e624787"
   },
   "outputs": [
    {
     "name": "stdout",
     "output_type": "stream",
     "text": [
      "Answer: bedroom\n"
     ]
    }
   ],
   "source": [
    "# Testing\n",
    "num = 0\n",
    "start_idx = processed['test'][num]['str_idx']\n",
    "end_idx = processed['test'][num]['end_idx']\n",
    "print('Answer:', processed['test'][num]['sentences'][start_idx:end_idx])"
   ]
  },
  {
   "cell_type": "markdown",
   "metadata": {
    "id": "c892hk9NNF9O"
   },
   "source": [
    "Transformer models rely on tokenizers that split words into subwords, which can cause misalignment between\n",
    "dataset tags and tokenized labels. For extractive QA, it's crucial to align the start and end indices of \n",
    "the answer with the corresponding token indices using a tokenize_and_align() function. This ensures the \n",
    "character-based sentence index matches the token index for the target word."
   ]
  },
  {
   "cell_type": "code",
   "execution_count": 17,
   "metadata": {
    "ExecuteTime": {
     "end_time": "2025-05-06T01:12:23.276530Z",
     "start_time": "2025-05-06T01:12:23.073826Z"
    },
    "id": "UI-9P7VYitxv"
   },
   "outputs": [],
   "source": [
    "# TOKENIZE AND ALIGN WITH HUGGING FACE LIBRARY\n",
    "tokenizer = DistilBertTokenizerFast.from_pretrained('distilbert-base-uncased')\n",
    "tokenizer.clean_up_tokenization_spaces = True"
   ]
  },
  {
   "cell_type": "code",
   "execution_count": 18,
   "metadata": {
    "ExecuteTime": {
     "end_time": "2025-05-06T01:12:24.099094Z",
     "start_time": "2025-05-06T01:12:24.095839Z"
    },
    "id": "Pex-YXJnnwb9"
   },
   "outputs": [],
   "source": [
    "def tokenize_align(example):\n",
    "    \"\"\"\n",
    "    Tokenizes input text and aligns character indices with token positions for extractive Question Answering.\n",
    "\n",
    "    This function uses a pretrained tokenizer to process a context ('sentences') and a question, mapping\n",
    "    the character-based start and end indices of the answer in the context to their corresponding token\n",
    "    indices in the tokenized sequence.\n",
    "\n",
    "    Arguments:\n",
    "        example (dict): A dictionary containing:\n",
    "            - 'sentences' (str): Context or passage text where the answer is located.\n",
    "            - 'question' (str): The question to be answered based on the context.\n",
    "            - 'str_idx' (int): The character index where the answer starts in the context.\n",
    "            - 'end_idx' (int): The character index where the answer ends in the context.\n",
    "\n",
    "    Returns:\n",
    "        dict: A dictionary containing:\n",
    "            - 'input_ids' (list of int): Token IDs of the tokenized input.\n",
    "            - 'attention_mask' (list of int): Mask indicating valid tokens (1) and padding (0).\n",
    "            - 'start_positions' (int): Token index corresponding to the start of the answer.\n",
    "            - 'end_positions' (int): Token index corresponding to the end of the answer.\n",
    "    \n",
    "    Notes:\n",
    "        - If the character-based start or end indices cannot be mapped to tokens, they default to the\n",
    "          maximum sequence length of the tokenizer.\n",
    "    \"\"\"\n",
    "    \n",
    "    # Tokenize the input sentences and question, applying truncation and padding\n",
    "    encoding = tokenizer(\n",
    "        example['sentences'], \n",
    "        example['question'], \n",
    "        truncation=True, \n",
    "        padding=True, \n",
    "        max_length=tokenizer.model_max_length\n",
    "    )\n",
    "\n",
    "    # Map character indices to token indices\n",
    "    start_positions = encoding.char_to_token(example['str_idx'])\n",
    "    end_positions = encoding.char_to_token(example['end_idx'] - 1)  # Subtract 1 to ensure inclusivity\n",
    "\n",
    "    # Handle cases where mapping fails (e.g., special tokens or padding)\n",
    "    if start_positions is None:\n",
    "        start_positions = tokenizer.model_max_length\n",
    "    if end_positions is None:\n",
    "        end_positions = tokenizer.model_max_length\n",
    "\n",
    "    # Return the processed output\n",
    "    return {\n",
    "        'input_ids': encoding['input_ids'],\n",
    "        'attention_mask': encoding['attention_mask'],\n",
    "        'start_positions': start_positions,\n",
    "        'end_positions': end_positions\n",
    "    }\n"
   ]
  },
  {
   "cell_type": "code",
   "execution_count": 19,
   "metadata": {
    "ExecuteTime": {
     "end_time": "2025-05-06T01:12:52.851531Z",
     "start_time": "2025-05-06T01:12:52.691693Z"
    },
    "colab": {
     "base_uri": "https://localhost:8080/",
     "height": 115,
     "referenced_widgets": [
      "4d9152a30e824931983a425ee6d607a6",
      "1f2773e3e80c4dd8b6b26e171bf33bc7",
      "013f041c3e0b4e35bf2432fc345cb7bf",
      "ef4e12f29f1e458f811a400faf21bdcc",
      "f0e34f2bf626434fa73f0def26b3d1a5",
      "1e6c02317171453cbd3d4d665879b0d4",
      "5b6dbe662ca24834b7678638e101e1ff",
      "39029f730ae140c7902fca6dac5361ad",
      "723acefae33d448199fa5c1a9ec3f246",
      "32a5c82c7a9845c09c11bb4e30c2f1aa",
      "77273c2e4b4e4e4c8ee4b6b344749518",
      "f0ac3b9b8f664479940c6ee18fc2f13e",
      "393697738e724e9fad4d163de0a77840",
      "e592db98c0c34c5e800f5d7b6d3c099e",
      "568f11b4462f4b4e95f3ad5947bb275e",
      "7fefe9e1121a43558d773500aef8935c"
     ]
    },
    "id": "kKyLNWCvksOr",
    "outputId": "7af3d914-4546-430c-c2f0-206b732e5131"
   },
   "outputs": [
    {
     "data": {
      "application/vnd.jupyter.widget-view+json": {
       "model_id": "485b6936021f4104a489ffdcc150abc8",
       "version_major": 2,
       "version_minor": 0
      },
      "text/plain": [
       "Map:   0%|          | 0/1000 [00:00<?, ? examples/s]"
      ]
     },
     "metadata": {},
     "output_type": "display_data"
    }
   ],
   "source": [
    "qa_dataset = processed.map(tokenize_align)"
   ]
  },
  {
   "cell_type": "code",
   "execution_count": 20,
   "metadata": {
    "ExecuteTime": {
     "end_time": "2025-05-06T01:12:56.071495Z",
     "start_time": "2025-05-06T01:12:56.066708Z"
    },
    "id": "8v5odGZBmGw0"
   },
   "outputs": [
    {
     "data": {
      "text/plain": [
       "DatasetDict({\n",
       "    train: Dataset({\n",
       "        features: ['question', 'sentences', 'answer', 'str_idx', 'end_idx', 'input_ids', 'attention_mask', 'start_positions', 'end_positions'],\n",
       "        num_rows: 1000\n",
       "    })\n",
       "    test: Dataset({\n",
       "        features: ['question', 'sentences', 'answer', 'str_idx', 'end_idx', 'input_ids', 'attention_mask', 'start_positions', 'end_positions'],\n",
       "        num_rows: 1000\n",
       "    })\n",
       "})"
      ]
     },
     "execution_count": 20,
     "metadata": {},
     "output_type": "execute_result"
    }
   ],
   "source": [
    "qa_dataset = qa_dataset.remove_columns(['story.answer', 'story.id', 'story.supporting_ids', 'story.text', 'story.type'])\n",
    "qa_dataset"
   ]
  },
  {
   "cell_type": "code",
   "execution_count": 21,
   "metadata": {
    "ExecuteTime": {
     "end_time": "2025-05-06T01:12:57.103377Z",
     "start_time": "2025-05-06T01:12:57.100514Z"
    },
    "colab": {
     "base_uri": "https://localhost:8080/"
    },
    "id": "yBHzbjffmJa8",
    "outputId": "b0688636-fdec-4de0-c2d9-69372b1ddbac"
   },
   "outputs": [
    {
     "data": {
      "text/plain": [
       "{'question': 'What is north of the kitchen?',\n",
       " 'sentences': 'The office is north of the kitchen. The garden is south of the kitchen.',\n",
       " 'answer': 'office',\n",
       " 'str_idx': 4,\n",
       " 'end_idx': 10,\n",
       " 'input_ids': [101,\n",
       "  1996,\n",
       "  2436,\n",
       "  2003,\n",
       "  2167,\n",
       "  1997,\n",
       "  1996,\n",
       "  3829,\n",
       "  1012,\n",
       "  1996,\n",
       "  3871,\n",
       "  2003,\n",
       "  2148,\n",
       "  1997,\n",
       "  1996,\n",
       "  3829,\n",
       "  1012,\n",
       "  102,\n",
       "  2054,\n",
       "  2003,\n",
       "  2167,\n",
       "  1997,\n",
       "  1996,\n",
       "  3829,\n",
       "  1029,\n",
       "  102],\n",
       " 'attention_mask': [1,\n",
       "  1,\n",
       "  1,\n",
       "  1,\n",
       "  1,\n",
       "  1,\n",
       "  1,\n",
       "  1,\n",
       "  1,\n",
       "  1,\n",
       "  1,\n",
       "  1,\n",
       "  1,\n",
       "  1,\n",
       "  1,\n",
       "  1,\n",
       "  1,\n",
       "  1,\n",
       "  1,\n",
       "  1,\n",
       "  1,\n",
       "  1,\n",
       "  1,\n",
       "  1,\n",
       "  1,\n",
       "  1],\n",
       " 'start_positions': 2,\n",
       " 'end_positions': 2}"
      ]
     },
     "execution_count": 21,
     "metadata": {},
     "output_type": "execute_result"
    }
   ],
   "source": [
    "qa_dataset['train'][0]"
   ]
  },
  {
   "cell_type": "code",
   "execution_count": 22,
   "metadata": {
    "ExecuteTime": {
     "end_time": "2025-05-06T01:13:00.609749Z",
     "start_time": "2025-05-06T01:13:00.605969Z"
    },
    "colab": {
     "base_uri": "https://localhost:8080/"
    },
    "id": "Be5k3ilHsJ6q",
    "outputId": "f2f7fea3-1394-4aaf-b159-994a38476994"
   },
   "outputs": [],
   "source": [
    "# TRAINING\n",
    "# Helper function to create TF datasets\n",
    "def create_tfdataset(data_ds, col_2_return, batch_size=8, enable_prefetch=True):\n",
    "    \"\"\"\n",
    "    This function processes the input dataset by extracting specified columns,\n",
    "    reshaping labels, and batching the data. It optionally applies prefetching\n",
    "    to optimize data loading during training.\n",
    "    \n",
    "    Arguments:\n",
    "        data_ds (datasets.Dataset): Input Hugging Face dataset.\n",
    "        col_2_return (list of str): List of columns to convert to TensorFlow tensors.\n",
    "        batch_size (int): Batch size for training. Default is 8.\n",
    "        enable_prefetch (bool): Whether to apply prefetching. Default is True.\n",
    "    \n",
    "    Returns:\n",
    "        tf.data.Dataset: A batched TensorFlow dataset.\n",
    "    \"\"\"\n",
    "    # Set the format to use specified columns\n",
    "    data_ds.set_format(type='tf', columns=col_2_return)\n",
    "    \n",
    "    # Extract features and labels from the dataset\n",
    "    ds_features = {x: data_ds[x] for x in ['input_ids', 'attention_mask']}\n",
    "    ds_labels = {\n",
    "        y: tf.reshape(data_ds[y], shape=[-1, 1]) \n",
    "        for y in ['start_positions', 'end_positions']\n",
    "    }\n",
    "    \n",
    "    # Create a TensorFlow dataset from features and labels\n",
    "    tf_dataset = tf.data.Dataset.from_tensor_slices((ds_features, ds_labels)).batch(batch_size)\n",
    "    \n",
    "    # Apply optional prefetching\n",
    "    if enable_prefetch:\n",
    "        AUTOTUNE = tf.data.experimental.AUTOTUNE\n",
    "        tf_dataset = tf_dataset.prefetch(AUTOTUNE)\n",
    "    \n",
    "    return tf_dataset"
   ]
  },
  {
   "cell_type": "code",
   "execution_count": 23,
   "metadata": {
    "ExecuteTime": {
     "end_time": "2025-05-06T01:13:03.540385Z",
     "start_time": "2025-05-06T01:13:03.517016Z"
    },
    "collapsed": false,
    "jupyter": {
     "outputs_hidden": false
    }
   },
   "outputs": [
    {
     "data": {
      "text/plain": [
       "125"
      ]
     },
     "execution_count": 23,
     "metadata": {},
     "output_type": "execute_result"
    }
   ],
   "source": [
    "train_ds = qa_dataset['train']\n",
    "test_ds = qa_dataset['test']\n",
    "columns_to_return = ['input_ids','attention_mask', 'start_positions', 'end_positions']\n",
    "\n",
    "# Create TF datasets\n",
    "train_tfdataset = create_tfdataset(train_ds, col_2_return=columns_to_return)\n",
    "test_tfdataset = create_tfdataset(test_ds, col_2_return=columns_to_return)\n",
    "\n",
    "test_tfdataset.cardinality().numpy()"
   ]
  },
  {
   "cell_type": "code",
   "execution_count": 24,
   "metadata": {
    "ExecuteTime": {
     "end_time": "2025-05-06T01:13:06.893498Z",
     "start_time": "2025-05-06T01:13:06.887974Z"
    },
    "id": "FbpplBxNtanH"
   },
   "outputs": [
    {
     "name": "stdout",
     "output_type": "stream",
     "text": [
      "Training batches: 125\n",
      "CV batches: 100\n",
      "Test batches: 25\n"
     ]
    }
   ],
   "source": [
    "# No cross-validation dataset was provided. Let's create some from the test dataset\n",
    "val_tfdataset = test_tfdataset.take(100)\n",
    "test_tfdataset = test_tfdataset.skip(100)\n",
    "\n",
    "print(\"Training batches:\",train_tfdataset.cardinality().numpy())\n",
    "print(\"CV batches:\",val_tfdataset.cardinality().numpy())\n",
    "print(\"Test batches:\",test_tfdataset.cardinality().numpy())"
   ]
  },
  {
   "cell_type": "markdown",
   "metadata": {
    "id": "0_Jj8Av6rEuN"
   },
   "source": [
    "Time to train the model.\n",
    "Create a custom training function using  `tf.GradientTape()`which  records the operations \n",
    "performed during forward prop for automatic differentiation during backprop. \n",
    "We'll target two loss functions, one for the start index and one for the end index. "
   ]
  },
  {
   "cell_type": "code",
   "execution_count": 25,
   "metadata": {
    "ExecuteTime": {
     "end_time": "2025-05-06T01:13:08.628972Z",
     "start_time": "2025-05-06T01:13:08.626115Z"
    },
    "collapsed": false,
    "jupyter": {
     "outputs_hidden": false
    }
   },
   "outputs": [],
   "source": [
    "# Define the loss functions for start and end position predictions\n",
    "loss_fn1 = SparseCategoricalCrossentropy(from_logits=True)\n",
    "loss_fn2 = SparseCategoricalCrossentropy(from_logits=True)\n",
    "\n",
    "\n",
    "def compute_loss(y_batch, answers_start_scores, answers_end_scores, loss_func1, loss_func2):\n",
    "    \"\"\"\n",
    "    Computes the loss for extractive Question Answering tasks.\n",
    "\n",
    "    This function calculates the combined loss for start and end position predictions,\n",
    "    given the ground truth labels and model outputs. It uses two separate loss functions\n",
    "    (typically SparseCategoricalCrossentropy) to handle each prediction independently and\n",
    "    averages the results to compute the final loss.\n",
    "\n",
    "    Args:\n",
    "        y_batch (dict): Contains the ground truth labels with:\n",
    "            - 'start_positions' (Tensor): The true start positions of the answers.\n",
    "            - 'end_positions' (Tensor): The true end positions of the answers.\n",
    "        answers_start_scores (Tensor): Predicted logits for the start positions.\n",
    "        answers_end_scores (Tensor): Predicted logits for the end positions.\n",
    "        loss_func1: Loss function for the start positions (e.g., SparseCategoricalCrossentropy).\n",
    "        loss_func2: Loss function for the end positions (e.g., SparseCategoricalCrossentropy).\n",
    "\n",
    "    Returns:\n",
    "        Tensors: \n",
    "            The average of the start and end losses, weighted equally\n",
    "            The start loss\n",
    "            The end loss\n",
    "    \"\"\"\n",
    "    \n",
    "    # Compute the loss for start positions\n",
    "    loss_start = loss_func1(y_batch['start_positions'], answers_start_scores)\n",
    "    \n",
    "    # Compute the loss for end positions\n",
    "    loss_end = loss_func2(y_batch['end_positions'], answers_end_scores)\n",
    "    \n",
    "    # Combine the losses (average the start and end losses)\n",
    "    avg_loss = 0.5 * (loss_start + loss_end)\n",
    "    \n",
    "    return avg_loss, loss_start, loss_end"
   ]
  },
  {
   "cell_type": "code",
   "execution_count": 26,
   "metadata": {
    "ExecuteTime": {
     "end_time": "2025-05-06T01:13:12.412850Z",
     "start_time": "2025-05-06T01:13:11.528712Z"
    },
    "collapsed": false,
    "jupyter": {
     "outputs_hidden": false
    }
   },
   "outputs": [
    {
     "name": "stderr",
     "output_type": "stream",
     "text": [
      "Some weights of the PyTorch model were not used when initializing the TF 2.0 model TFDistilBertForQuestionAnswering: ['vocab_transform.bias', 'vocab_projector.bias', 'vocab_layer_norm.bias', 'vocab_layer_norm.weight', 'vocab_transform.weight']\n",
      "- This IS expected if you are initializing TFDistilBertForQuestionAnswering from a PyTorch model trained on another task or with another architecture (e.g. initializing a TFBertForSequenceClassification model from a BertForPreTraining model).\n",
      "- This IS NOT expected if you are initializing TFDistilBertForQuestionAnswering from a PyTorch model that you expect to be exactly identical (e.g. initializing a TFBertForSequenceClassification model from a BertForSequenceClassification model).\n",
      "Some weights or buffers of the TF 2.0 model TFDistilBertForQuestionAnswering were not initialized from the PyTorch model and are newly initialized: ['qa_outputs.weight', 'qa_outputs.bias']\n",
      "You should probably TRAIN this model on a down-stream task to be able to use it for predictions and inference.\n"
     ]
    }
   ],
   "source": [
    "# Model\n",
    "model = TFDistilBertForQuestionAnswering.from_pretrained('distilbert-base-uncased', return_dict=False)\n",
    "# print(model.config)"
   ]
  },
  {
   "cell_type": "code",
   "execution_count": 28,
   "metadata": {
    "ExecuteTime": {
     "end_time": "2025-05-06T02:08:31.773148Z",
     "start_time": "2025-05-06T01:37:42.779816Z"
    },
    "colab": {
     "base_uri": "https://localhost:8080/"
    },
    "id": "PtZz249vQbLn",
    "outputId": "24cdf861-af63-4581-a0ae-2de29d1880ed"
   },
   "outputs": [
    {
     "name": "stdout",
     "output_type": "stream",
     "text": [
      "Starting epoch: 0\n",
      "  Training loss (for one batch) at step 0-----Start: 0.2824  End: 0.2558  Avg.: 0.2691\n",
      "  Training loss (for one batch) at step 20-----Start: 0.0321  End: 0.0350  Avg.: 0.0336\n",
      "  Training loss (for one batch) at step 40-----Start: 0.4785  End: 0.4627  Avg.: 0.4706\n",
      "  Training loss (for one batch) at step 60-----Start: 0.2718  End: 0.2516  Avg.: 0.2617\n",
      "  Training loss (for one batch) at step 80-----Start: 0.1218  End: 0.0821  Avg.: 0.1020\n",
      "  Training loss (for one batch) at step 100-----Start: 0.0808  End: 0.0605  Avg.: 0.0706\n",
      "  Training loss (for one batch) at step 120-----Start: 0.5816  End: 0.5227  Avg.: 0.5522\n",
      "  --------Validation avg. loss: 0.31520459055900574\n",
      "Starting epoch: 1\n",
      "  Training loss (for one batch) at step 0-----Start: 0.2924  End: 0.2656  Avg.: 0.2790\n",
      "  Training loss (for one batch) at step 20-----Start: 0.0410  End: 0.0378  Avg.: 0.0394\n",
      "  Training loss (for one batch) at step 40-----Start: 0.4405  End: 0.4451  Avg.: 0.4428\n",
      "  Training loss (for one batch) at step 60-----Start: 0.2993  End: 0.3232  Avg.: 0.3113\n",
      "  Training loss (for one batch) at step 80-----Start: 0.0888  End: 0.0832  Avg.: 0.0860\n",
      "  Training loss (for one batch) at step 100-----Start: 0.0890  End: 0.0925  Avg.: 0.0907\n",
      "  Training loss (for one batch) at step 120-----Start: 0.3915  End: 0.3973  Avg.: 0.3944\n",
      "  --------Validation avg. loss: 0.33833107352256775\n",
      "Starting epoch: 2\n",
      "  Training loss (for one batch) at step 0-----Start: 0.2610  End: 0.2705  Avg.: 0.2657\n",
      "  Training loss (for one batch) at step 20-----Start: 0.0486  End: 0.0408  Avg.: 0.0447\n",
      "  Training loss (for one batch) at step 40-----Start: 0.5103  End: 0.4845  Avg.: 0.4974\n",
      "  Training loss (for one batch) at step 60-----Start: 0.2644  End: 0.2477  Avg.: 0.2561\n",
      "  Training loss (for one batch) at step 80-----Start: 0.0927  End: 0.1232  Avg.: 0.1080\n",
      "  Training loss (for one batch) at step 100-----Start: 0.0600  End: 0.0695  Avg.: 0.0648\n",
      "  Training loss (for one batch) at step 120-----Start: 0.4899  End: 0.4937  Avg.: 0.4918\n"
     ]
    },
    {
     "name": "stderr",
     "output_type": "stream",
     "text": [
      "2025-05-05 20:42:09.270086: I tensorflow/core/framework/local_rendezvous.cc:407] Local rendezvous is aborting with status: OUT_OF_RANGE: End of sequence\n"
     ]
    },
    {
     "name": "stdout",
     "output_type": "stream",
     "text": [
      "  --------Validation avg. loss: 0.34743762016296387\n",
      "Starting epoch: 3\n",
      "  Training loss (for one batch) at step 0-----Start: 0.2550  End: 0.2676  Avg.: 0.2613\n",
      "  Training loss (for one batch) at step 20-----Start: 0.0242  End: 0.0255  Avg.: 0.0249\n",
      "  Training loss (for one batch) at step 40-----Start: 0.4796  End: 0.4623  Avg.: 0.4709\n",
      "  Training loss (for one batch) at step 60-----Start: 0.2416  End: 0.2598  Avg.: 0.2507\n",
      "  Training loss (for one batch) at step 80-----Start: 0.0870  End: 0.0824  Avg.: 0.0847\n",
      "  Training loss (for one batch) at step 100-----Start: 0.0738  End: 0.0658  Avg.: 0.0698\n",
      "  Training loss (for one batch) at step 120-----Start: 0.5956  End: 0.6219  Avg.: 0.6087\n",
      "  --------Validation avg. loss: 0.32761088013648987\n",
      "Starting epoch: 4\n",
      "  Training loss (for one batch) at step 0-----Start: 0.2171  End: 0.2413  Avg.: 0.2292\n",
      "  Training loss (for one batch) at step 20-----Start: 0.0164  End: 0.0182  Avg.: 0.0173\n",
      "  Training loss (for one batch) at step 40-----Start: 0.4914  End: 0.4601  Avg.: 0.4758\n",
      "  Training loss (for one batch) at step 60-----Start: 0.2317  End: 0.2415  Avg.: 0.2366\n",
      "  Training loss (for one batch) at step 80-----Start: 0.0793  End: 0.0874  Avg.: 0.0833\n",
      "  Training loss (for one batch) at step 100-----Start: 0.0569  End: 0.0586  Avg.: 0.0578\n",
      "  Training loss (for one batch) at step 120-----Start: 0.4409  End: 0.4537  Avg.: 0.4473\n",
      "  --------Validation avg. loss: 0.3424304127693176\n",
      "Starting epoch: 5\n",
      "  Training loss (for one batch) at step 0-----Start: 0.1468  End: 0.1564  Avg.: 0.1516\n",
      "  Training loss (for one batch) at step 20-----Start: 0.0195  End: 0.0151  Avg.: 0.0173\n",
      "  Training loss (for one batch) at step 40-----Start: 0.5063  End: 0.5093  Avg.: 0.5078\n",
      "  Training loss (for one batch) at step 60-----Start: 0.2413  End: 0.2661  Avg.: 0.2537\n",
      "  Training loss (for one batch) at step 80-----Start: 0.0319  End: 0.0275  Avg.: 0.0297\n",
      "  Training loss (for one batch) at step 100-----Start: 0.0521  End: 0.0626  Avg.: 0.0573\n",
      "  Training loss (for one batch) at step 120-----Start: 0.2665  End: 0.2689  Avg.: 0.2677\n",
      "  --------Validation avg. loss: 0.2864096462726593\n",
      "Starting epoch: 6\n",
      "  Training loss (for one batch) at step 0-----Start: 0.1696  End: 0.2015  Avg.: 0.1856\n",
      "  Training loss (for one batch) at step 20-----Start: 0.0317  End: 0.0398  Avg.: 0.0358\n",
      "  Training loss (for one batch) at step 40-----Start: 0.3391  End: 0.3903  Avg.: 0.3647\n",
      "  Training loss (for one batch) at step 60-----Start: 0.1312  End: 0.1546  Avg.: 0.1429\n",
      "  Training loss (for one batch) at step 80-----Start: 0.0344  End: 0.0376  Avg.: 0.0360\n",
      "  Training loss (for one batch) at step 100-----Start: 0.0100  End: 0.0116  Avg.: 0.0108\n",
      "  Training loss (for one batch) at step 120-----Start: 0.1004  End: 0.1141  Avg.: 0.1072\n",
      "  --------Validation avg. loss: 0.15746505558490753\n",
      "Starting epoch: 7\n",
      "  Training loss (for one batch) at step 0-----Start: 0.0668  End: 0.0615  Avg.: 0.0641\n",
      "  Training loss (for one batch) at step 20-----Start: 0.0199  End: 0.0349  Avg.: 0.0274\n",
      "  Training loss (for one batch) at step 40-----Start: 0.2051  End: 0.2598  Avg.: 0.2324\n",
      "  Training loss (for one batch) at step 60-----Start: 0.1526  End: 0.1406  Avg.: 0.1466\n",
      "  Training loss (for one batch) at step 80-----Start: 0.0104  End: 0.0101  Avg.: 0.0102\n",
      "  Training loss (for one batch) at step 100-----Start: 0.0014  End: 0.0011  Avg.: 0.0012\n",
      "  Training loss (for one batch) at step 120-----Start: 0.0073  End: 0.0072  Avg.: 0.0073\n",
      "  --------Validation avg. loss: 0.0035369787365198135\n",
      "Starting epoch: 8\n",
      "  Training loss (for one batch) at step 0-----Start: 0.0284  End: 0.0352  Avg.: 0.0318\n",
      "  Training loss (for one batch) at step 20-----Start: 0.0010  End: 0.0008  Avg.: 0.0009\n",
      "  Training loss (for one batch) at step 40-----Start: 0.0099  End: 0.0111  Avg.: 0.0105\n",
      "  Training loss (for one batch) at step 60-----Start: 0.0140  End: 0.0148  Avg.: 0.0144\n",
      "  Training loss (for one batch) at step 80-----Start: 0.1707  End: 0.2168  Avg.: 0.1937\n",
      "  Training loss (for one batch) at step 100-----Start: 0.0028  End: 0.0035  Avg.: 0.0031\n",
      "  Training loss (for one batch) at step 120-----Start: 0.0059  End: 0.0063  Avg.: 0.0061\n",
      "  --------Validation avg. loss: 0.0038864733651280403\n",
      "Starting epoch: 9\n",
      "  Training loss (for one batch) at step 0-----Start: 0.0056  End: 0.0051  Avg.: 0.0054\n",
      "  Training loss (for one batch) at step 20-----Start: 0.0069  End: 0.0063  Avg.: 0.0066\n",
      "  Training loss (for one batch) at step 40-----Start: 0.0349  End: 0.0320  Avg.: 0.0335\n",
      "  Training loss (for one batch) at step 60-----Start: 0.0645  End: 0.0629  Avg.: 0.0637\n",
      "  Training loss (for one batch) at step 80-----Start: 0.0015  End: 0.0017  Avg.: 0.0016\n",
      "  Training loss (for one batch) at step 100-----Start: 0.0051  End: 0.0051  Avg.: 0.0051\n",
      "  Training loss (for one batch) at step 120-----Start: 0.0251  End: 0.0188  Avg.: 0.0219\n",
      "  --------Validation avg. loss: 0.008531671948730946\n",
      "Starting epoch: 10\n",
      "  Training loss (for one batch) at step 0-----Start: 0.0082  End: 0.0089  Avg.: 0.0086\n",
      "  Training loss (for one batch) at step 20-----Start: 0.0072  End: 0.0077  Avg.: 0.0074\n",
      "  Training loss (for one batch) at step 40-----Start: 0.0022  End: 0.0025  Avg.: 0.0024\n",
      "  Training loss (for one batch) at step 60-----Start: 0.0224  End: 0.0200  Avg.: 0.0212\n",
      "  Training loss (for one batch) at step 80-----Start: 0.0006  End: 0.0006  Avg.: 0.0006\n",
      "  Training loss (for one batch) at step 100-----Start: 0.0050  End: 0.0062  Avg.: 0.0056\n",
      "  Training loss (for one batch) at step 120-----Start: 0.0120  End: 0.0114  Avg.: 0.0117\n",
      "  --------Validation avg. loss: 0.0009960863972082734\n",
      "Starting epoch: 11\n",
      "  Training loss (for one batch) at step 0-----Start: 0.0006  End: 0.0007  Avg.: 0.0007\n",
      "  Training loss (for one batch) at step 20-----Start: 0.0025  End: 0.0026  Avg.: 0.0026\n",
      "  Training loss (for one batch) at step 40-----Start: 0.0056  End: 0.0072  Avg.: 0.0064\n",
      "  Training loss (for one batch) at step 60-----Start: 0.0032  End: 0.0030  Avg.: 0.0031\n",
      "  Training loss (for one batch) at step 80-----Start: 0.0011  End: 0.0012  Avg.: 0.0012\n",
      "  Training loss (for one batch) at step 100-----Start: 0.0078  End: 0.0046  Avg.: 0.0062\n",
      "  Training loss (for one batch) at step 120-----Start: 0.0019  End: 0.0021  Avg.: 0.0020\n",
      "  --------Validation avg. loss: 0.0008188223000615835\n",
      "Starting epoch: 12\n",
      "  Training loss (for one batch) at step 0-----Start: 0.0057  End: 0.0044  Avg.: 0.0051\n",
      "  Training loss (for one batch) at step 20-----Start: 0.0009  End: 0.0010  Avg.: 0.0009\n",
      "  Training loss (for one batch) at step 40-----Start: 0.0073  End: 0.0076  Avg.: 0.0074\n",
      "  Training loss (for one batch) at step 60-----Start: 0.0005  End: 0.0006  Avg.: 0.0006\n",
      "  Training loss (for one batch) at step 80-----Start: 0.0003  End: 0.0003  Avg.: 0.0003\n",
      "  Training loss (for one batch) at step 100-----Start: 0.0006  End: 0.0006  Avg.: 0.0006\n",
      "  Training loss (for one batch) at step 120-----Start: 0.0056  End: 0.0057  Avg.: 0.0056\n",
      "  --------Validation avg. loss: 0.0005342683289200068\n",
      "Starting epoch: 13\n",
      "  Training loss (for one batch) at step 0-----Start: 0.0010  End: 0.0009  Avg.: 0.0010\n",
      "  Training loss (for one batch) at step 20-----Start: 0.0007  End: 0.0007  Avg.: 0.0007\n",
      "  Training loss (for one batch) at step 40-----Start: 0.0010  End: 0.0009  Avg.: 0.0010\n",
      "  Training loss (for one batch) at step 60-----Start: 0.0007  End: 0.0009  Avg.: 0.0008\n",
      "  Training loss (for one batch) at step 80-----Start: 0.0006  End: 0.0007  Avg.: 0.0006\n",
      "  Training loss (for one batch) at step 100-----Start: 0.0018  End: 0.0016  Avg.: 0.0017\n",
      "  Training loss (for one batch) at step 120-----Start: 0.0008  End: 0.0008  Avg.: 0.0008\n",
      "  --------Validation avg. loss: 0.00026927280123345554\n",
      "Starting epoch: 14\n",
      "  Training loss (for one batch) at step 0-----Start: 0.0004  End: 0.0004  Avg.: 0.0004\n",
      "  Training loss (for one batch) at step 20-----Start: 0.0007  End: 0.0005  Avg.: 0.0006\n",
      "  Training loss (for one batch) at step 40-----Start: 0.0052  End: 0.0060  Avg.: 0.0056\n",
      "  Training loss (for one batch) at step 60-----Start: 0.0066  End: 0.0069  Avg.: 0.0067\n",
      "  Training loss (for one batch) at step 80-----Start: 0.0004  End: 0.0003  Avg.: 0.0004\n",
      "  Training loss (for one batch) at step 100-----Start: 0.0031  End: 0.0033  Avg.: 0.0032\n",
      "  Training loss (for one batch) at step 120-----Start: 0.0157  End: 0.0133  Avg.: 0.0145\n",
      "  --------Validation avg. loss: 0.0003826961328741163\n",
      "Starting epoch: 15\n",
      "  Training loss (for one batch) at step 0-----Start: 0.0005  End: 0.0004  Avg.: 0.0004\n",
      "  Training loss (for one batch) at step 20-----Start: 0.0003  End: 0.0003  Avg.: 0.0003\n",
      "  Training loss (for one batch) at step 40-----Start: 0.0011  End: 0.0012  Avg.: 0.0011\n",
      "  Training loss (for one batch) at step 60-----Start: 0.0005  End: 0.0004  Avg.: 0.0005\n",
      "  Training loss (for one batch) at step 80-----Start: 0.0007  End: 0.0006  Avg.: 0.0006\n",
      "  Training loss (for one batch) at step 100-----Start: 0.0004  End: 0.0004  Avg.: 0.0004\n",
      "  Training loss (for one batch) at step 120-----Start: 0.0010  End: 0.0011  Avg.: 0.0011\n",
      "  --------Validation avg. loss: 0.00029531485051847994\n",
      "Starting epoch: 16\n",
      "  Training loss (for one batch) at step 0-----Start: 0.0008  End: 0.0008  Avg.: 0.0008\n",
      "  Training loss (for one batch) at step 20-----Start: 0.0134  End: 0.0133  Avg.: 0.0134\n",
      "  Training loss (for one batch) at step 40-----Start: 0.0004  End: 0.0004  Avg.: 0.0004\n",
      "  Training loss (for one batch) at step 60-----Start: 0.0038  End: 0.0054  Avg.: 0.0046\n",
      "  Training loss (for one batch) at step 80-----Start: 0.0002  End: 0.0002  Avg.: 0.0002\n",
      "  Training loss (for one batch) at step 100-----Start: 0.0135  End: 0.0077  Avg.: 0.0106\n",
      "  Training loss (for one batch) at step 120-----Start: 0.0040  End: 0.0041  Avg.: 0.0041\n",
      "  --------Validation avg. loss: 0.0001685891329543665\n",
      "Starting epoch: 17\n",
      "  Training loss (for one batch) at step 0-----Start: 0.0005  End: 0.0005  Avg.: 0.0005\n",
      "  Training loss (for one batch) at step 20-----Start: 0.0055  End: 0.0055  Avg.: 0.0055\n",
      "  Training loss (for one batch) at step 40-----Start: 0.0005  End: 0.0006  Avg.: 0.0006\n",
      "  Training loss (for one batch) at step 60-----Start: 0.0772  End: 0.0779  Avg.: 0.0775\n",
      "  Training loss (for one batch) at step 80-----Start: 0.0003  End: 0.0004  Avg.: 0.0003\n",
      "  Training loss (for one batch) at step 100-----Start: 0.0033  End: 0.0034  Avg.: 0.0034\n",
      "  Training loss (for one batch) at step 120-----Start: 0.0005  End: 0.0005  Avg.: 0.0005\n",
      "  --------Validation avg. loss: 0.00016450001567136496\n",
      "Starting epoch: 18\n",
      "  Training loss (for one batch) at step 0-----Start: 0.0009  End: 0.0010  Avg.: 0.0009\n",
      "  Training loss (for one batch) at step 20-----Start: 0.0004  End: 0.0005  Avg.: 0.0005\n",
      "  Training loss (for one batch) at step 40-----Start: 0.0006  End: 0.0005  Avg.: 0.0005\n",
      "  Training loss (for one batch) at step 60-----Start: 0.0014  End: 0.0013  Avg.: 0.0013\n",
      "  Training loss (for one batch) at step 80-----Start: 0.0002  End: 0.0002  Avg.: 0.0002\n",
      "  Training loss (for one batch) at step 100-----Start: 0.0003  End: 0.0003  Avg.: 0.0003\n",
      "  Training loss (for one batch) at step 120-----Start: 0.0006  End: 0.0005  Avg.: 0.0006\n"
     ]
    },
    {
     "name": "stderr",
     "output_type": "stream",
     "text": [
      "2025-05-05 21:05:31.676173: I tensorflow/core/framework/local_rendezvous.cc:407] Local rendezvous is aborting with status: OUT_OF_RANGE: End of sequence\n"
     ]
    },
    {
     "name": "stdout",
     "output_type": "stream",
     "text": [
      "  --------Validation avg. loss: 0.0001072858867701143\n",
      "Starting epoch: 19\n",
      "  Training loss (for one batch) at step 0-----Start: 0.0072  End: 0.0080  Avg.: 0.0076\n",
      "  Training loss (for one batch) at step 20-----Start: 0.0002  End: 0.0002  Avg.: 0.0002\n",
      "  Training loss (for one batch) at step 40-----Start: 0.0030  End: 0.0018  Avg.: 0.0024\n",
      "  Training loss (for one batch) at step 60-----Start: 0.5891  End: 0.5522  Avg.: 0.5706\n",
      "  Training loss (for one batch) at step 80-----Start: 0.0031  End: 0.0035  Avg.: 0.0033\n",
      "  Training loss (for one batch) at step 100-----Start: 0.0004  End: 0.0005  Avg.: 0.0004\n",
      "  Training loss (for one batch) at step 120-----Start: 0.0069  End: 0.0071  Avg.: 0.0070\n",
      "  --------Validation avg. loss: 0.0001316112175118178\n",
      "Starting epoch: 20\n",
      "  Training loss (for one batch) at step 0-----Start: 0.0002  End: 0.0002  Avg.: 0.0002\n",
      "  Training loss (for one batch) at step 20-----Start: 0.0002  End: 0.0003  Avg.: 0.0002\n",
      "  Training loss (for one batch) at step 40-----Start: 0.0005  End: 0.0005  Avg.: 0.0005\n",
      "  Training loss (for one batch) at step 60-----Start: 0.0007  End: 0.0008  Avg.: 0.0008\n",
      "  Training loss (for one batch) at step 80-----Start: 0.0002  End: 0.0003  Avg.: 0.0003\n",
      "  Training loss (for one batch) at step 100-----Start: 0.0013  End: 0.0010  Avg.: 0.0012\n",
      "  Training loss (for one batch) at step 120-----Start: 0.0008  End: 0.0012  Avg.: 0.0010\n",
      "  --------Validation avg. loss: 0.00021249279961921275\n",
      "Stopping early due to no improvement in validation loss.\n"
     ]
    }
   ],
   "source": [
    "# Define the optimizer for training\n",
    "opt = Adam(learning_rate=1e-5)\n",
    "\n",
    "EPOCHS = 30\n",
    "best_val_loss = float(\"inf\")  # Initialize th ebest validation loss\n",
    "patience = 10  # Number of epochs to wait before stopping\n",
    "no_improve_count = 0  # Counter for epochs without improvement\n",
    "\n",
    "losses = []\n",
    "epoch_val_losses = []\n",
    "epoch_train_losses = []\n",
    "\n",
    "for epoch in range(EPOCHS):\n",
    "    print(\"Starting epoch: %d\"% epoch )\n",
    "    for step, (x_batch_train, y_batch_train) in enumerate(train_tfdataset):\n",
    "        with tf.GradientTape() as tape:\n",
    "            answer_start_scores, answer_end_scores = model(x_batch_train, training=True)\n",
    "            loss, loss_s, loss_e = compute_loss(y_batch_train, answer_start_scores, answer_end_scores, loss_fn1, loss_fn2)\n",
    "        losses.append(loss)\n",
    "        grads = tape.gradient(loss, model.trainable_weights)\n",
    "        opt.apply_gradients(zip(grads, model.trainable_weights))\n",
    "\n",
    "        if step % 20 == 0:\n",
    "            print(\"  Training loss (for one batch) at step %d-----Start: %.4f  End: %.4f  Avg.: %.4f\"% (step, float(loss_s), float(loss_e), float(loss)))\n",
    "\n",
    "    epoch_train_losses.append(losses[-1])\n",
    "\n",
    "    # Validation step\n",
    "    val_loss = 0\n",
    "    for vstep, (x_batch_val, y_batch_val) in enumerate(val_tfdataset):\n",
    "        val_answer_start_scores, val_answer_end_scores  = model(x_batch_val, training=False)\n",
    "        avg_val_loss, _, _ = compute_loss(y_batch_val, val_answer_start_scores, val_answer_end_scores, loss_fn1, loss_fn2)\n",
    "        val_loss += avg_val_loss  # Accumulate validation loss\n",
    "    \n",
    "    val_loss /= len(val_tfdataset)\n",
    "    epoch_val_losses.append(val_loss)\n",
    "    print(f\"  --------Validation avg. loss: {val_loss}\")\n",
    "\n",
    "    # Save the model if the validation loss improves\n",
    "    if val_loss < best_val_loss:\n",
    "        best_val_loss = val_loss\n",
    "        save_path = os.path.join(os.getcwd(), \"model\", f\"model_weights_epoch_{epoch+1:02d}.h5\")\n",
    "        model.save_weights(save_path)\n",
    "    else:\n",
    "        no_improve_count += 1  # Increase counter if no improvement\n",
    "\n",
    "    if no_improve_count >= patience:\n",
    "        print(\"Stopping early due to no improvement in validation loss.\")\n",
    "        break  # Stop training"
   ]
  },
  {
   "cell_type": "code",
   "execution_count": 29,
   "metadata": {
    "ExecuteTime": {
     "end_time": "2025-05-06T02:17:37.616278Z",
     "start_time": "2025-05-06T02:17:37.453697Z"
    }
   },
   "outputs": [
    {
     "data": {
      "image/png": "[encoded data removed]",
      "text/plain": [
       "<Figure size 640x480 with 1 Axes>"
      ]
     },
     "metadata": {},
     "output_type": "display_data"
    }
   ],
   "source": [
    "plt.plot(epoch_train_losses)\n",
    "plt.plot(epoch_val_losses)\n",
    "plt.show()"
   ]
  },
  {
   "cell_type": "code",
   "execution_count": 30,
   "metadata": {
    "ExecuteTime": {
     "end_time": "2025-05-06T02:18:01.226280Z",
     "start_time": "2025-05-06T02:18:01.075539Z"
    }
   },
   "outputs": [
    {
     "name": "stdout",
     "output_type": "stream",
     "text": [
      "Q: What is south of the bedroom?\n",
      "A: Garden\n"
     ]
    }
   ],
   "source": [
    "# PREDICT: Performing question answering on a given story\n",
    "# Define the question and the story text\n",
    "question = 'What is south of the bedroom?'\n",
    "text = 'The hallway is south of the garden. The garden is south of the bedroom.'\n",
    "\n",
    "# Tokenize the text and question for the model\n",
    "# The tokenizer converts the input text and question into a format suitable for the model,\n",
    "# creating input IDs and attention masks as tensors.\n",
    "input_dict = tokenizer(text, question, return_tensors='tf')\n",
    "\n",
    "# Perform a forward pass through the model to obtain start and end logits\n",
    "# - start_logits: Scores for the start positions of the answer in the input text\n",
    "# - end_logits: Scores for the end positions of the answer in the input text\n",
    "outputs = model(input_dict)\n",
    "start_logits = outputs[0]\n",
    "end_logits = outputs[1]\n",
    "\n",
    "# Decode the token IDs back into text to extract the answer\n",
    "# - 'convert_ids_to_tokens' translates input IDs back to words/tokens\n",
    "# print(input_dict[\"input_ids\"].numpy().shape)  # Output: (1, 26)\n",
    "all_tokens = tokenizer.convert_ids_to_tokens(input_dict[\"input_ids\"].numpy()[0])\n",
    "\n",
    "# Compute the answer by finding the tokens corresponding to the start and end logits\n",
    "# - 'argmax' determines the position of the maximum score for start and end logits\n",
    "# - '[start:end + 1]' slices the tokens to include the full answer\n",
    "answer = ' '.join(all_tokens[tf.math.argmax(start_logits, axis=-1)[0] : tf.math.argmax(end_logits, axis=-1)[0] + 1])\n",
    "print(f\"Q: {question}\\nA: {answer.capitalize()}\")"
   ]
  },
  {
   "cell_type": "code",
   "execution_count": 31,
   "metadata": {
    "ExecuteTime": {
     "end_time": "2025-05-06T02:18:07.660555Z",
     "start_time": "2025-05-06T02:18:07.657437Z"
    }
   },
   "outputs": [],
   "source": [
    "def predict_answer(trained_model, the_tokenizer, the_question, the_text):\n",
    "    \"\"\"\n",
    "    Predicts the answer to a question based on a given text using an extractive QA model.\n",
    "\n",
    "    This function tokenizes the input text and question, performs a forward pass through\n",
    "    the model to obtain start and end logits, and extracts the answer based on the token indices.\n",
    "\n",
    "    Arguments:\n",
    "        trained_model: The pretrained extractive QA model (e.g., Hugging Face model for Question Answering).\n",
    "        the_tokenizer: The tokenizer corresponding to the model (e.g., DistilBERT tokenizer).\n",
    "        the_question (str): The question to be answered based on the context.\n",
    "        the_text (str): The context or passage text containing the answer.\n",
    "\n",
    "    Returns:\n",
    "        str: The extracted answer to the question from the text.\n",
    "    \"\"\"\n",
    "    # Tokenize the text and question for the model\n",
    "    input_dict = the_tokenizer(the_text, the_question, return_tensors='tf')\n",
    "\n",
    "    # Perform a forward pass through the model to obtain start and end logits\n",
    "    outputs = trained_model(input_dict, training=False)\n",
    "    start_logits = outputs[0]  # Start positions of answer\n",
    "    end_logits = outputs[1]    # End positions of answer\n",
    "\n",
    "    # Decode token IDs back into text tokens\n",
    "    all_tokens = the_tokenizer.convert_ids_to_tokens(input_dict[\"input_ids\"].numpy()[0])\n",
    "\n",
    "    # Compute the answer by slicing tokens based on predicted start and end positions\n",
    "    answer = ' '.join(all_tokens[\n",
    "        tf.math.argmax(start_logits, axis=-1)[0] : tf.math.argmax(end_logits, axis=-1)[0] + 1\n",
    "    ])\n",
    "\n",
    "    return answer.capitalize()"
   ]
  },
  {
   "cell_type": "code",
   "execution_count": 32,
   "metadata": {
    "ExecuteTime": {
     "end_time": "2025-05-06T02:18:14.121609Z",
     "start_time": "2025-05-06T02:18:14.061377Z"
    },
    "collapsed": false,
    "jupyter": {
     "outputs_hidden": false
    }
   },
   "outputs": [
    {
     "name": "stdout",
     "output_type": "stream",
     "text": [
      "Q: What is north of the museum?\n",
      "A: House\n"
     ]
    }
   ],
   "source": [
    "# Test predict_answer()\n",
    "question2 = \"What is north of the museum?\"\n",
    "text2 = \"Mum enjoys visiting the museum because our house is 5 minutes north of the museum. \"\n",
    "answer2 = predict_answer(model, tokenizer, question2, text2)\n",
    "print(f\"Q: {question2}\\nA: {answer2}\")"
   ]
  },
  {
   "cell_type": "code",
   "execution_count": 33,
   "metadata": {
    "ExecuteTime": {
     "end_time": "2025-05-06T02:18:16.908091Z",
     "start_time": "2025-05-06T02:18:16.893707Z"
    },
    "collapsed": false,
    "jupyter": {
     "outputs_hidden": false
    }
   },
   "outputs": [
    {
     "data": {
      "text/plain": [
       "({'input_ids': <tf.Tensor: shape=(8, 26), dtype=int64, numpy=\n",
       "  array([[ 101, 1996, 3829, 2003, 2167, 1997, 1996, 5723, 1012, 1996, 3829,\n",
       "          2003, 2148, 1997, 1996, 2436, 1012,  102, 2054, 2003, 1996, 2436,\n",
       "          2167, 1997, 1029,  102],\n",
       "         [ 101, 1996, 2436, 2003, 2225, 1997, 1996, 3829, 1012, 1996, 6797,\n",
       "          2003, 2264, 1997, 1996, 3829, 1012,  102, 2054, 2003, 2225, 1997,\n",
       "          1996, 3829, 1029,  102],\n",
       "         [ 101, 1996, 3829, 2003, 2264, 1997, 1996, 6797, 1012, 1996, 3871,\n",
       "          2003, 2264, 1997, 1996, 3829, 1012,  102, 2054, 2003, 1996, 6797,\n",
       "          2225, 1997, 1029,  102],\n",
       "         [ 101, 1996, 5010, 2003, 2167, 1997, 1996, 2436, 1012, 1996, 3829,\n",
       "          2003, 2148, 1997, 1996, 2436, 1012,  102, 2054, 2003, 2148, 1997,\n",
       "          1996, 2436, 1029,  102],\n",
       "         [ 101, 1996, 2436, 2003, 2148, 1997, 1996, 6797, 1012, 1996, 3829,\n",
       "          2003, 2148, 1997, 1996, 2436, 1012,  102, 2054, 2003, 1996, 6797,\n",
       "          2167, 1997, 1029,  102],\n",
       "         [ 101, 1996, 5010, 2003, 2264, 1997, 1996, 3871, 1012, 1996, 3871,\n",
       "          2003, 2264, 1997, 1996, 3829, 1012,  102, 2054, 2003, 2264, 1997,\n",
       "          1996, 3829, 1029,  102],\n",
       "         [ 101, 1996, 6797, 2003, 2264, 1997, 1996, 3871, 1012, 1996, 3829,\n",
       "          2003, 2225, 1997, 1996, 3871, 1012,  102, 2054, 2003, 2264, 1997,\n",
       "          1996, 3871, 1029,  102],\n",
       "         [ 101, 1996, 6797, 2003, 2167, 1997, 1996, 5010, 1012, 1996, 5723,\n",
       "          2003, 2148, 1997, 1996, 5010, 1012,  102, 2054, 2003, 1996, 5010,\n",
       "          2148, 1997, 1029,  102]])>,\n",
       "  'attention_mask': <tf.Tensor: shape=(8, 26), dtype=int64, numpy=\n",
       "  array([[1, 1, 1, 1, 1, 1, 1, 1, 1, 1, 1, 1, 1, 1, 1, 1, 1, 1, 1, 1, 1, 1,\n",
       "          1, 1, 1, 1],\n",
       "         [1, 1, 1, 1, 1, 1, 1, 1, 1, 1, 1, 1, 1, 1, 1, 1, 1, 1, 1, 1, 1, 1,\n",
       "          1, 1, 1, 1],\n",
       "         [1, 1, 1, 1, 1, 1, 1, 1, 1, 1, 1, 1, 1, 1, 1, 1, 1, 1, 1, 1, 1, 1,\n",
       "          1, 1, 1, 1],\n",
       "         [1, 1, 1, 1, 1, 1, 1, 1, 1, 1, 1, 1, 1, 1, 1, 1, 1, 1, 1, 1, 1, 1,\n",
       "          1, 1, 1, 1],\n",
       "         [1, 1, 1, 1, 1, 1, 1, 1, 1, 1, 1, 1, 1, 1, 1, 1, 1, 1, 1, 1, 1, 1,\n",
       "          1, 1, 1, 1],\n",
       "         [1, 1, 1, 1, 1, 1, 1, 1, 1, 1, 1, 1, 1, 1, 1, 1, 1, 1, 1, 1, 1, 1,\n",
       "          1, 1, 1, 1],\n",
       "         [1, 1, 1, 1, 1, 1, 1, 1, 1, 1, 1, 1, 1, 1, 1, 1, 1, 1, 1, 1, 1, 1,\n",
       "          1, 1, 1, 1],\n",
       "         [1, 1, 1, 1, 1, 1, 1, 1, 1, 1, 1, 1, 1, 1, 1, 1, 1, 1, 1, 1, 1, 1,\n",
       "          1, 1, 1, 1]])>},\n",
       " {'start_positions': <tf.Tensor: shape=(8, 1), dtype=int64, numpy=\n",
       "  array([[ 2],\n",
       "         [ 2],\n",
       "         [ 2],\n",
       "         [10],\n",
       "         [ 2],\n",
       "         [ 7],\n",
       "         [ 2],\n",
       "         [ 2]])>,\n",
       "  'end_positions': <tf.Tensor: shape=(8, 1), dtype=int64, numpy=\n",
       "  array([[ 2],\n",
       "         [ 2],\n",
       "         [ 2],\n",
       "         [10],\n",
       "         [ 2],\n",
       "         [ 7],\n",
       "         [ 2],\n",
       "         [ 2]])>})"
      ]
     },
     "execution_count": 33,
     "metadata": {},
     "output_type": "execute_result"
    }
   ],
   "source": [
    "next(iter(test_tfdataset))"
   ]
  },
  {
   "cell_type": "code",
   "execution_count": 34,
   "metadata": {
    "ExecuteTime": {
     "end_time": "2025-05-06T02:19:07.799182Z",
     "start_time": "2025-05-06T02:19:07.795457Z"
    },
    "collapsed": false,
    "jupyter": {
     "outputs_hidden": false
    }
   },
   "outputs": [],
   "source": [
    "def predict_and_evaluate(test_tf_ds, trained_model, the_tokenizer):\n",
    "    \"\"\"\n",
    "    Predicts answers, evaluates them against ground truths, and calculates accuracy.\n",
    "\n",
    "    Args:\n",
    "        test_tf_ds (tf.data.Dataset): The test dataset containing input features and ground truth labels.\n",
    "        trained_model: The pre-trained question-answering model (e.g., DistilBERT).\n",
    "        the_tokenizer: Tokenizer corresponding to the model for tokenization and decoding.\n",
    "\n",
    "    Returns:\n",
    "        float: Accuracy of the predictions on the test dataset.\n",
    "    \"\"\"\n",
    "    correct_predictions = 0\n",
    "    total_samples = 0\n",
    "    predicted_answers, ground_truths = [], []\n",
    "\n",
    "    for step, (x_batch_test, y_batch_test) in enumerate(test_tf_ds):\n",
    "        # Get model outputs for the batch\n",
    "        outputs = trained_model(x_batch_test, training=False)\n",
    "        all_tokens = the_tokenizer.convert_ids_to_tokens(x_batch_test[\"input_ids\"].numpy()[0])\n",
    "        \n",
    "        for example_idx in range(len(y_batch_test['start_positions'])):  # Batch size\n",
    "            # Ground truths\n",
    "            start_gt_idx = int(y_batch_test[\"start_positions\"][example_idx].numpy()[0])\n",
    "            end_gt_idx = int(y_batch_test[\"end_positions\"][example_idx].numpy()[0])\n",
    "            ground_truth = ' '.join(all_tokens[start_gt_idx:end_gt_idx + 1]) \n",
    "            ground_truths.append(ground_truth)\n",
    "\n",
    "            # Predictions\n",
    "            start_pred_idx = int(tf.math.argmax(outputs[0][example_idx], axis=-1))\n",
    "            end_pred_idx = int(tf.math.argmax(outputs[1][example_idx], axis=-1))\n",
    "            pred_answer = ' '.join(all_tokens[start_pred_idx : end_pred_idx + 1])\n",
    "            predicted_answers.append(pred_answer)\n",
    "\n",
    "            # Compare the predicted answer with the ground truth\n",
    "            if pred_answer.strip().lower() == ground_truth.strip().lower():\n",
    "                correct_predictions += 1\n",
    "\n",
    "            total_samples += 1\n",
    "\n",
    "    # Calculate accuracy\n",
    "    ds_accuracy = correct_predictions / total_samples if total_samples > 0 else 0.0\n",
    "    \n",
    "    # Print evaluation results\n",
    "    \n",
    "    print(f\"Total samples: {total_samples}\")\n",
    "    print(f\"Correct Predictions: {correct_predictions}\")\n",
    "    print(f\"Model Accuracy: {correct_predictions / total_samples:.4f}\")\n",
    "    \n",
    "    return ds_accuracy\n"
   ]
  },
  {
   "cell_type": "code",
   "execution_count": 35,
   "metadata": {
    "ExecuteTime": {
     "end_time": "2025-05-06T02:19:13.142772Z",
     "start_time": "2025-05-06T02:19:10.249976Z"
    },
    "collapsed": false,
    "jupyter": {
     "outputs_hidden": false
    }
   },
   "outputs": [
    {
     "name": "stdout",
     "output_type": "stream",
     "text": [
      "Total samples: 200\n",
      "Correct Predictions: 200\n",
      "Model Accuracy: 1.0000\n"
     ]
    }
   ],
   "source": [
    "test_accuracy = predict_and_evaluate(test_tfdataset, model, tokenizer)"
   ]
  }
 ],
 "metadata": {
  "accelerator": "GPU",
  "colab": {
   "collapsed_sections": [],
   "name": "QA-dataset.ipynb",
   "provenance": []
  },
  "kernelspec": {
   "display_name": "Python 3 (ipykernel)",
   "language": "python",
   "name": "python3"
  },
  "language_info": {
   "codemirror_mode": {
    "name": "ipython",
    "version": 3
   },
   "file_extension": ".py",
   "mimetype": "text/x-python",
   "name": "python",
   "nbconvert_exporter": "python",
   "pygments_lexer": "ipython3",
   "version": "3.12.0"
  },
  "widgets": {
   "application/vnd.jupyter.widget-state+json": {
    "013f041c3e0b4e35bf2432fc345cb7bf": {
     "model_module": "@jupyter-widgets/controls",
     "model_name": "FloatProgressModel",
     "state": {
      "_dom_classes": [],
      "_model_module": "@jupyter-widgets/controls",
      "_model_module_version": "1.5.0",
      "_model_name": "FloatProgressModel",
      "_view_count": null,
      "_view_module": "@jupyter-widgets/controls",
      "_view_module_version": "1.5.0",
      "_view_name": "ProgressView",
      "bar_style": "success",
      "description": "100%",
      "description_tooltip": null,
      "layout": "IPY_MODEL_1e6c02317171453cbd3d4d665879b0d4",
      "max": 1000,
      "min": 0,
      "orientation": "horizontal",
      "style": "IPY_MODEL_f0e34f2bf626434fa73f0def26b3d1a5",
      "value": 1000
     }
    },
    "07aaa9b79a744856b19d723370d6e588": {
     "model_module": "@jupyter-widgets/controls",
     "model_name": "HBoxModel",
     "state": {
      "_dom_classes": [],
      "_model_module": "@jupyter-widgets/controls",
      "_model_module_version": "1.5.0",
      "_model_name": "HBoxModel",
      "_view_count": null,
      "_view_module": "@jupyter-widgets/controls",
      "_view_module_version": "1.5.0",
      "_view_name": "HBoxView",
      "box_style": "",
      "children": [
       "IPY_MODEL_b39b85d8cb05418aa92e8476ad02f755",
       "IPY_MODEL_0a8534ac52af4d48ad82b66463ad08c3"
      ],
      "layout": "IPY_MODEL_afedd2328cf141f78775e4cfa7758267"
     }
    },
    "0a8534ac52af4d48ad82b66463ad08c3": {
     "model_module": "@jupyter-widgets/controls",
     "model_name": "HTMLModel",
     "state": {
      "_dom_classes": [],
      "_model_module": "@jupyter-widgets/controls",
      "_model_module_version": "1.5.0",
      "_model_name": "HTMLModel",
      "_view_count": null,
      "_view_module": "@jupyter-widgets/controls",
      "_view_module_version": "1.5.0",
      "_view_name": "HTMLView",
      "description": "",
      "description_tooltip": null,
      "layout": "IPY_MODEL_8cfbd3b14b23417993270f851a2d8ff9",
      "placeholder": "​",
      "style": "IPY_MODEL_31fc08a1e7e04f6b9b3ea400ccfaea75",
      "value": " 1000/1000 [01:40&lt;00:00,  9.90ex/s]"
     }
    },
    "1e6c02317171453cbd3d4d665879b0d4": {
     "model_module": "@jupyter-widgets/base",
     "model_name": "LayoutModel",
     "state": {
      "_model_module": "@jupyter-widgets/base",
      "_model_module_version": "1.2.0",
      "_model_name": "LayoutModel",
      "_view_count": null,
      "_view_module": "@jupyter-widgets/base",
      "_view_module_version": "1.2.0",
      "_view_name": "LayoutView",
      "align_content": null,
      "align_items": null,
      "align_self": null,
      "border": null,
      "bottom": null,
      "display": null,
      "flex": null,
      "flex_flow": null,
      "grid_area": null,
      "grid_auto_columns": null,
      "grid_auto_flow": null,
      "grid_auto_rows": null,
      "grid_column": null,
      "grid_gap": null,
      "grid_row": null,
      "grid_template_areas": null,
      "grid_template_columns": null,
      "grid_template_rows": null,
      "height": null,
      "justify_content": null,
      "justify_items": null,
      "left": null,
      "margin": null,
      "max_height": null,
      "max_width": null,
      "min_height": null,
      "min_width": null,
      "object_fit": null,
      "object_position": null,
      "order": null,
      "overflow": null,
      "overflow_x": null,
      "overflow_y": null,
      "padding": null,
      "right": null,
      "top": null,
      "visibility": null,
      "width": null
     }
    },
    "1f2773e3e80c4dd8b6b26e171bf33bc7": {
     "model_module": "@jupyter-widgets/base",
     "model_name": "LayoutModel",
     "state": {
      "_model_module": "@jupyter-widgets/base",
      "_model_module_version": "1.2.0",
      "_model_name": "LayoutModel",
      "_view_count": null,
      "_view_module": "@jupyter-widgets/base",
      "_view_module_version": "1.2.0",
      "_view_name": "LayoutView",
      "align_content": null,
      "align_items": null,
      "align_self": null,
      "border": null,
      "bottom": null,
      "display": null,
      "flex": null,
      "flex_flow": null,
      "grid_area": null,
      "grid_auto_columns": null,
      "grid_auto_flow": null,
      "grid_auto_rows": null,
      "grid_column": null,
      "grid_gap": null,
      "grid_row": null,
      "grid_template_areas": null,
      "grid_template_columns": null,
      "grid_template_rows": null,
      "height": null,
      "justify_content": null,
      "justify_items": null,
      "left": null,
      "margin": null,
      "max_height": null,
      "max_width": null,
      "min_height": null,
      "min_width": null,
      "object_fit": null,
      "object_position": null,
      "order": null,
      "overflow": null,
      "overflow_x": null,
      "overflow_y": null,
      "padding": null,
      "right": null,
      "top": null,
      "visibility": null,
      "width": null
     }
    },
    "31fc08a1e7e04f6b9b3ea400ccfaea75": {
     "model_module": "@jupyter-widgets/controls",
     "model_name": "DescriptionStyleModel",
     "state": {
      "_model_module": "@jupyter-widgets/controls",
      "_model_module_version": "1.5.0",
      "_model_name": "DescriptionStyleModel",
      "_view_count": null,
      "_view_module": "@jupyter-widgets/base",
      "_view_module_version": "1.2.0",
      "_view_name": "StyleView",
      "description_width": ""
     }
    },
    "32a5c82c7a9845c09c11bb4e30c2f1aa": {
     "model_module": "@jupyter-widgets/base",
     "model_name": "LayoutModel",
     "state": {
      "_model_module": "@jupyter-widgets/base",
      "_model_module_version": "1.2.0",
      "_model_name": "LayoutModel",
      "_view_count": null,
      "_view_module": "@jupyter-widgets/base",
      "_view_module_version": "1.2.0",
      "_view_name": "LayoutView",
      "align_content": null,
      "align_items": null,
      "align_self": null,
      "border": null,
      "bottom": null,
      "display": null,
      "flex": null,
      "flex_flow": null,
      "grid_area": null,
      "grid_auto_columns": null,
      "grid_auto_flow": null,
      "grid_auto_rows": null,
      "grid_column": null,
      "grid_gap": null,
      "grid_row": null,
      "grid_template_areas": null,
      "grid_template_columns": null,
      "grid_template_rows": null,
      "height": null,
      "justify_content": null,
      "justify_items": null,
      "left": null,
      "margin": null,
      "max_height": null,
      "max_width": null,
      "min_height": null,
      "min_width": null,
      "object_fit": null,
      "object_position": null,
      "order": null,
      "overflow": null,
      "overflow_x": null,
      "overflow_y": null,
      "padding": null,
      "right": null,
      "top": null,
      "visibility": null,
      "width": null
     }
    },
    "364ba960eb474c9084cc71851594d345": {
     "model_module": "@jupyter-widgets/base",
     "model_name": "LayoutModel",
     "state": {
      "_model_module": "@jupyter-widgets/base",
      "_model_module_version": "1.2.0",
      "_model_name": "LayoutModel",
      "_view_count": null,
      "_view_module": "@jupyter-widgets/base",
      "_view_module_version": "1.2.0",
      "_view_name": "LayoutView",
      "align_content": null,
      "align_items": null,
      "align_self": null,
      "border": null,
      "bottom": null,
      "display": null,
      "flex": null,
      "flex_flow": null,
      "grid_area": null,
      "grid_auto_columns": null,
      "grid_auto_flow": null,
      "grid_auto_rows": null,
      "grid_column": null,
      "grid_gap": null,
      "grid_row": null,
      "grid_template_areas": null,
      "grid_template_columns": null,
      "grid_template_rows": null,
      "height": null,
      "justify_content": null,
      "justify_items": null,
      "left": null,
      "margin": null,
      "max_height": null,
      "max_width": null,
      "min_height": null,
      "min_width": null,
      "object_fit": null,
      "object_position": null,
      "order": null,
      "overflow": null,
      "overflow_x": null,
      "overflow_y": null,
      "padding": null,
      "right": null,
      "top": null,
      "visibility": null,
      "width": null
     }
    },
    "39029f730ae140c7902fca6dac5361ad": {
     "model_module": "@jupyter-widgets/base",
     "model_name": "LayoutModel",
     "state": {
      "_model_module": "@jupyter-widgets/base",
      "_model_module_version": "1.2.0",
      "_model_name": "LayoutModel",
      "_view_count": null,
      "_view_module": "@jupyter-widgets/base",
      "_view_module_version": "1.2.0",
      "_view_name": "LayoutView",
      "align_content": null,
      "align_items": null,
      "align_self": null,
      "border": null,
      "bottom": null,
      "display": null,
      "flex": null,
      "flex_flow": null,
      "grid_area": null,
      "grid_auto_columns": null,
      "grid_auto_flow": null,
      "grid_auto_rows": null,
      "grid_column": null,
      "grid_gap": null,
      "grid_row": null,
      "grid_template_areas": null,
      "grid_template_columns": null,
      "grid_template_rows": null,
      "height": null,
      "justify_content": null,
      "justify_items": null,
      "left": null,
      "margin": null,
      "max_height": null,
      "max_width": null,
      "min_height": null,
      "min_width": null,
      "object_fit": null,
      "object_position": null,
      "order": null,
      "overflow": null,
      "overflow_x": null,
      "overflow_y": null,
      "padding": null,
      "right": null,
      "top": null,
      "visibility": null,
      "width": null
     }
    },
    "393697738e724e9fad4d163de0a77840": {
     "model_module": "@jupyter-widgets/controls",
     "model_name": "ProgressStyleModel",
     "state": {
      "_model_module": "@jupyter-widgets/controls",
      "_model_module_version": "1.5.0",
      "_model_name": "ProgressStyleModel",
      "_view_count": null,
      "_view_module": "@jupyter-widgets/base",
      "_view_module_version": "1.2.0",
      "_view_name": "StyleView",
      "bar_color": null,
      "description_width": "initial"
     }
    },
    "3abb36da57c841838867c56e2a3a325b": {
     "model_module": "@jupyter-widgets/controls",
     "model_name": "ProgressStyleModel",
     "state": {
      "_model_module": "@jupyter-widgets/controls",
      "_model_module_version": "1.5.0",
      "_model_name": "ProgressStyleModel",
      "_view_count": null,
      "_view_module": "@jupyter-widgets/base",
      "_view_module_version": "1.2.0",
      "_view_name": "StyleView",
      "bar_color": null,
      "description_width": "initial"
     }
    },
    "3dab28395f3f475d8242e4d4d45ed059": {
     "model_module": "@jupyter-widgets/controls",
     "model_name": "HTMLModel",
     "state": {
      "_dom_classes": [],
      "_model_module": "@jupyter-widgets/controls",
      "_model_module_version": "1.5.0",
      "_model_name": "HTMLModel",
      "_view_count": null,
      "_view_module": "@jupyter-widgets/controls",
      "_view_module_version": "1.5.0",
      "_view_name": "HTMLView",
      "description": "",
      "description_tooltip": null,
      "layout": "IPY_MODEL_63b4ebafcead4c0784b5511219a6a198",
      "placeholder": "​",
      "style": "IPY_MODEL_58718e12f1b7459989ab5296846c4be6",
      "value": " 1000/1000 [00:10&lt;00:00, 97.35ex/s]"
     }
    },
    "44b7bea3e09d4e5684921c66dd4c7514": {
     "model_module": "@jupyter-widgets/controls",
     "model_name": "HBoxModel",
     "state": {
      "_dom_classes": [],
      "_model_module": "@jupyter-widgets/controls",
      "_model_module_version": "1.5.0",
      "_model_name": "HBoxModel",
      "_view_count": null,
      "_view_module": "@jupyter-widgets/controls",
      "_view_module_version": "1.5.0",
      "_view_name": "HBoxView",
      "box_style": "",
      "children": [
       "IPY_MODEL_7e1325e57bf9417e93d7ef180794ab3c",
       "IPY_MODEL_3dab28395f3f475d8242e4d4d45ed059"
      ],
      "layout": "IPY_MODEL_6af3ec5091d74bd1a95bf02a87dd240b"
     }
    },
    "4d9152a30e824931983a425ee6d607a6": {
     "model_module": "@jupyter-widgets/controls",
     "model_name": "HBoxModel",
     "state": {
      "_dom_classes": [],
      "_model_module": "@jupyter-widgets/controls",
      "_model_module_version": "1.5.0",
      "_model_name": "HBoxModel",
      "_view_count": null,
      "_view_module": "@jupyter-widgets/controls",
      "_view_module_version": "1.5.0",
      "_view_name": "HBoxView",
      "box_style": "",
      "children": [
       "IPY_MODEL_013f041c3e0b4e35bf2432fc345cb7bf",
       "IPY_MODEL_ef4e12f29f1e458f811a400faf21bdcc"
      ],
      "layout": "IPY_MODEL_1f2773e3e80c4dd8b6b26e171bf33bc7"
     }
    },
    "4f5b06c3a5e44c6cade5bf83634d9f69": {
     "model_module": "@jupyter-widgets/controls",
     "model_name": "ProgressStyleModel",
     "state": {
      "_model_module": "@jupyter-widgets/controls",
      "_model_module_version": "1.5.0",
      "_model_name": "ProgressStyleModel",
      "_view_count": null,
      "_view_module": "@jupyter-widgets/base",
      "_view_module_version": "1.2.0",
      "_view_name": "StyleView",
      "bar_color": null,
      "description_width": "initial"
     }
    },
    "568f11b4462f4b4e95f3ad5947bb275e": {
     "model_module": "@jupyter-widgets/controls",
     "model_name": "DescriptionStyleModel",
     "state": {
      "_model_module": "@jupyter-widgets/controls",
      "_model_module_version": "1.5.0",
      "_model_name": "DescriptionStyleModel",
      "_view_count": null,
      "_view_module": "@jupyter-widgets/base",
      "_view_module_version": "1.2.0",
      "_view_name": "StyleView",
      "description_width": ""
     }
    },
    "58718e12f1b7459989ab5296846c4be6": {
     "model_module": "@jupyter-widgets/controls",
     "model_name": "DescriptionStyleModel",
     "state": {
      "_model_module": "@jupyter-widgets/controls",
      "_model_module_version": "1.5.0",
      "_model_name": "DescriptionStyleModel",
      "_view_count": null,
      "_view_module": "@jupyter-widgets/base",
      "_view_module_version": "1.2.0",
      "_view_name": "StyleView",
      "description_width": ""
     }
    },
    "5b6dbe662ca24834b7678638e101e1ff": {
     "model_module": "@jupyter-widgets/controls",
     "model_name": "DescriptionStyleModel",
     "state": {
      "_model_module": "@jupyter-widgets/controls",
      "_model_module_version": "1.5.0",
      "_model_name": "DescriptionStyleModel",
      "_view_count": null,
      "_view_module": "@jupyter-widgets/base",
      "_view_module_version": "1.2.0",
      "_view_name": "StyleView",
      "description_width": ""
     }
    },
    "63b4ebafcead4c0784b5511219a6a198": {
     "model_module": "@jupyter-widgets/base",
     "model_name": "LayoutModel",
     "state": {
      "_model_module": "@jupyter-widgets/base",
      "_model_module_version": "1.2.0",
      "_model_name": "LayoutModel",
      "_view_count": null,
      "_view_module": "@jupyter-widgets/base",
      "_view_module_version": "1.2.0",
      "_view_name": "LayoutView",
      "align_content": null,
      "align_items": null,
      "align_self": null,
      "border": null,
      "bottom": null,
      "display": null,
      "flex": null,
      "flex_flow": null,
      "grid_area": null,
      "grid_auto_columns": null,
      "grid_auto_flow": null,
      "grid_auto_rows": null,
      "grid_column": null,
      "grid_gap": null,
      "grid_row": null,
      "grid_template_areas": null,
      "grid_template_columns": null,
      "grid_template_rows": null,
      "height": null,
      "justify_content": null,
      "justify_items": null,
      "left": null,
      "margin": null,
      "max_height": null,
      "max_width": null,
      "min_height": null,
      "min_width": null,
      "object_fit": null,
      "object_position": null,
      "order": null,
      "overflow": null,
      "overflow_x": null,
      "overflow_y": null,
      "padding": null,
      "right": null,
      "top": null,
      "visibility": null,
      "width": null
     }
    },
    "6af3ec5091d74bd1a95bf02a87dd240b": {
     "model_module": "@jupyter-widgets/base",
     "model_name": "LayoutModel",
     "state": {
      "_model_module": "@jupyter-widgets/base",
      "_model_module_version": "1.2.0",
      "_model_name": "LayoutModel",
      "_view_count": null,
      "_view_module": "@jupyter-widgets/base",
      "_view_module_version": "1.2.0",
      "_view_name": "LayoutView",
      "align_content": null,
      "align_items": null,
      "align_self": null,
      "border": null,
      "bottom": null,
      "display": null,
      "flex": null,
      "flex_flow": null,
      "grid_area": null,
      "grid_auto_columns": null,
      "grid_auto_flow": null,
      "grid_auto_rows": null,
      "grid_column": null,
      "grid_gap": null,
      "grid_row": null,
      "grid_template_areas": null,
      "grid_template_columns": null,
      "grid_template_rows": null,
      "height": null,
      "justify_content": null,
      "justify_items": null,
      "left": null,
      "margin": null,
      "max_height": null,
      "max_width": null,
      "min_height": null,
      "min_width": null,
      "object_fit": null,
      "object_position": null,
      "order": null,
      "overflow": null,
      "overflow_x": null,
      "overflow_y": null,
      "padding": null,
      "right": null,
      "top": null,
      "visibility": null,
      "width": null
     }
    },
    "723acefae33d448199fa5c1a9ec3f246": {
     "model_module": "@jupyter-widgets/controls",
     "model_name": "HBoxModel",
     "state": {
      "_dom_classes": [],
      "_model_module": "@jupyter-widgets/controls",
      "_model_module_version": "1.5.0",
      "_model_name": "HBoxModel",
      "_view_count": null,
      "_view_module": "@jupyter-widgets/controls",
      "_view_module_version": "1.5.0",
      "_view_name": "HBoxView",
      "box_style": "",
      "children": [
       "IPY_MODEL_77273c2e4b4e4e4c8ee4b6b344749518",
       "IPY_MODEL_f0ac3b9b8f664479940c6ee18fc2f13e"
      ],
      "layout": "IPY_MODEL_32a5c82c7a9845c09c11bb4e30c2f1aa"
     }
    },
    "77273c2e4b4e4e4c8ee4b6b344749518": {
     "model_module": "@jupyter-widgets/controls",
     "model_name": "FloatProgressModel",
     "state": {
      "_dom_classes": [],
      "_model_module": "@jupyter-widgets/controls",
      "_model_module_version": "1.5.0",
      "_model_name": "FloatProgressModel",
      "_view_count": null,
      "_view_module": "@jupyter-widgets/controls",
      "_view_module_version": "1.5.0",
      "_view_name": "ProgressView",
      "bar_style": "success",
      "description": "100%",
      "description_tooltip": null,
      "layout": "IPY_MODEL_e592db98c0c34c5e800f5d7b6d3c099e",
      "max": 1000,
      "min": 0,
      "orientation": "horizontal",
      "style": "IPY_MODEL_393697738e724e9fad4d163de0a77840",
      "value": 1000
     }
    },
    "7e1325e57bf9417e93d7ef180794ab3c": {
     "model_module": "@jupyter-widgets/controls",
     "model_name": "FloatProgressModel",
     "state": {
      "_dom_classes": [],
      "_model_module": "@jupyter-widgets/controls",
      "_model_module_version": "1.5.0",
      "_model_name": "FloatProgressModel",
      "_view_count": null,
      "_view_module": "@jupyter-widgets/controls",
      "_view_module_version": "1.5.0",
      "_view_name": "ProgressView",
      "bar_style": "success",
      "description": "100%",
      "description_tooltip": null,
      "layout": "IPY_MODEL_7fb1118c0b4443b6b6dbb5803e9ec2e8",
      "max": 1000,
      "min": 0,
      "orientation": "horizontal",
      "style": "IPY_MODEL_ca722dcd857c433c9058585e31a1673d",
      "value": 1000
     }
    },
    "7fb1118c0b4443b6b6dbb5803e9ec2e8": {
     "model_module": "@jupyter-widgets/base",
     "model_name": "LayoutModel",
     "state": {
      "_model_module": "@jupyter-widgets/base",
      "_model_module_version": "1.2.0",
      "_model_name": "LayoutModel",
      "_view_count": null,
      "_view_module": "@jupyter-widgets/base",
      "_view_module_version": "1.2.0",
      "_view_name": "LayoutView",
      "align_content": null,
      "align_items": null,
      "align_self": null,
      "border": null,
      "bottom": null,
      "display": null,
      "flex": null,
      "flex_flow": null,
      "grid_area": null,
      "grid_auto_columns": null,
      "grid_auto_flow": null,
      "grid_auto_rows": null,
      "grid_column": null,
      "grid_gap": null,
      "grid_row": null,
      "grid_template_areas": null,
      "grid_template_columns": null,
      "grid_template_rows": null,
      "height": null,
      "justify_content": null,
      "justify_items": null,
      "left": null,
      "margin": null,
      "max_height": null,
      "max_width": null,
      "min_height": null,
      "min_width": null,
      "object_fit": null,
      "object_position": null,
      "order": null,
      "overflow": null,
      "overflow_x": null,
      "overflow_y": null,
      "padding": null,
      "right": null,
      "top": null,
      "visibility": null,
      "width": null
     }
    },
    "7fefe9e1121a43558d773500aef8935c": {
     "model_module": "@jupyter-widgets/base",
     "model_name": "LayoutModel",
     "state": {
      "_model_module": "@jupyter-widgets/base",
      "_model_module_version": "1.2.0",
      "_model_name": "LayoutModel",
      "_view_count": null,
      "_view_module": "@jupyter-widgets/base",
      "_view_module_version": "1.2.0",
      "_view_name": "LayoutView",
      "align_content": null,
      "align_items": null,
      "align_self": null,
      "border": null,
      "bottom": null,
      "display": null,
      "flex": null,
      "flex_flow": null,
      "grid_area": null,
      "grid_auto_columns": null,
      "grid_auto_flow": null,
      "grid_auto_rows": null,
      "grid_column": null,
      "grid_gap": null,
      "grid_row": null,
      "grid_template_areas": null,
      "grid_template_columns": null,
      "grid_template_rows": null,
      "height": null,
      "justify_content": null,
      "justify_items": null,
      "left": null,
      "margin": null,
      "max_height": null,
      "max_width": null,
      "min_height": null,
      "min_width": null,
      "object_fit": null,
      "object_position": null,
      "order": null,
      "overflow": null,
      "overflow_x": null,
      "overflow_y": null,
      "padding": null,
      "right": null,
      "top": null,
      "visibility": null,
      "width": null
     }
    },
    "863c5ce96db84e3da162072c9a13c913": {
     "model_module": "@jupyter-widgets/base",
     "model_name": "LayoutModel",
     "state": {
      "_model_module": "@jupyter-widgets/base",
      "_model_module_version": "1.2.0",
      "_model_name": "LayoutModel",
      "_view_count": null,
      "_view_module": "@jupyter-widgets/base",
      "_view_module_version": "1.2.0",
      "_view_name": "LayoutView",
      "align_content": null,
      "align_items": null,
      "align_self": null,
      "border": null,
      "bottom": null,
      "display": null,
      "flex": null,
      "flex_flow": null,
      "grid_area": null,
      "grid_auto_columns": null,
      "grid_auto_flow": null,
      "grid_auto_rows": null,
      "grid_column": null,
      "grid_gap": null,
      "grid_row": null,
      "grid_template_areas": null,
      "grid_template_columns": null,
      "grid_template_rows": null,
      "height": null,
      "justify_content": null,
      "justify_items": null,
      "left": null,
      "margin": null,
      "max_height": null,
      "max_width": null,
      "min_height": null,
      "min_width": null,
      "object_fit": null,
      "object_position": null,
      "order": null,
      "overflow": null,
      "overflow_x": null,
      "overflow_y": null,
      "padding": null,
      "right": null,
      "top": null,
      "visibility": null,
      "width": null
     }
    },
    "8968319cdaca476fb15c11a388dce39a": {
     "model_module": "@jupyter-widgets/controls",
     "model_name": "HBoxModel",
     "state": {
      "_dom_classes": [],
      "_model_module": "@jupyter-widgets/controls",
      "_model_module_version": "1.5.0",
      "_model_name": "HBoxModel",
      "_view_count": null,
      "_view_module": "@jupyter-widgets/controls",
      "_view_module_version": "1.5.0",
      "_view_name": "HBoxView",
      "box_style": "",
      "children": [
       "IPY_MODEL_a725734893004a45b61194f649f5f602",
       "IPY_MODEL_c4a24656d67844e995d3b8e175c6c497"
      ],
      "layout": "IPY_MODEL_863c5ce96db84e3da162072c9a13c913"
     }
    },
    "89fdda6e6688476495ca297bfe010bf8": {
     "model_module": "@jupyter-widgets/controls",
     "model_name": "DescriptionStyleModel",
     "state": {
      "_model_module": "@jupyter-widgets/controls",
      "_model_module_version": "1.5.0",
      "_model_name": "DescriptionStyleModel",
      "_view_count": null,
      "_view_module": "@jupyter-widgets/base",
      "_view_module_version": "1.2.0",
      "_view_name": "StyleView",
      "description_width": ""
     }
    },
    "8b961844b5004905922531bd805a9d57": {
     "model_module": "@jupyter-widgets/base",
     "model_name": "LayoutModel",
     "state": {
      "_model_module": "@jupyter-widgets/base",
      "_model_module_version": "1.2.0",
      "_model_name": "LayoutModel",
      "_view_count": null,
      "_view_module": "@jupyter-widgets/base",
      "_view_module_version": "1.2.0",
      "_view_name": "LayoutView",
      "align_content": null,
      "align_items": null,
      "align_self": null,
      "border": null,
      "bottom": null,
      "display": null,
      "flex": null,
      "flex_flow": null,
      "grid_area": null,
      "grid_auto_columns": null,
      "grid_auto_flow": null,
      "grid_auto_rows": null,
      "grid_column": null,
      "grid_gap": null,
      "grid_row": null,
      "grid_template_areas": null,
      "grid_template_columns": null,
      "grid_template_rows": null,
      "height": null,
      "justify_content": null,
      "justify_items": null,
      "left": null,
      "margin": null,
      "max_height": null,
      "max_width": null,
      "min_height": null,
      "min_width": null,
      "object_fit": null,
      "object_position": null,
      "order": null,
      "overflow": null,
      "overflow_x": null,
      "overflow_y": null,
      "padding": null,
      "right": null,
      "top": null,
      "visibility": null,
      "width": null
     }
    },
    "8cfbd3b14b23417993270f851a2d8ff9": {
     "model_module": "@jupyter-widgets/base",
     "model_name": "LayoutModel",
     "state": {
      "_model_module": "@jupyter-widgets/base",
      "_model_module_version": "1.2.0",
      "_model_name": "LayoutModel",
      "_view_count": null,
      "_view_module": "@jupyter-widgets/base",
      "_view_module_version": "1.2.0",
      "_view_name": "LayoutView",
      "align_content": null,
      "align_items": null,
      "align_self": null,
      "border": null,
      "bottom": null,
      "display": null,
      "flex": null,
      "flex_flow": null,
      "grid_area": null,
      "grid_auto_columns": null,
      "grid_auto_flow": null,
      "grid_auto_rows": null,
      "grid_column": null,
      "grid_gap": null,
      "grid_row": null,
      "grid_template_areas": null,
      "grid_template_columns": null,
      "grid_template_rows": null,
      "height": null,
      "justify_content": null,
      "justify_items": null,
      "left": null,
      "margin": null,
      "max_height": null,
      "max_width": null,
      "min_height": null,
      "min_width": null,
      "object_fit": null,
      "object_position": null,
      "order": null,
      "overflow": null,
      "overflow_x": null,
      "overflow_y": null,
      "padding": null,
      "right": null,
      "top": null,
      "visibility": null,
      "width": null
     }
    },
    "929946fdfaa04cf59d3b31cf92fc08d1": {
     "model_module": "@jupyter-widgets/controls",
     "model_name": "HTMLModel",
     "state": {
      "_dom_classes": [],
      "_model_module": "@jupyter-widgets/controls",
      "_model_module_version": "1.5.0",
      "_model_name": "HTMLModel",
      "_view_count": null,
      "_view_module": "@jupyter-widgets/controls",
      "_view_module_version": "1.5.0",
      "_view_name": "HTMLView",
      "description": "",
      "description_tooltip": null,
      "layout": "IPY_MODEL_cda72c45821a4eb89f1a3ab5510b26d3",
      "placeholder": "​",
      "style": "IPY_MODEL_89fdda6e6688476495ca297bfe010bf8",
      "value": " 1000/1000 [00:08&lt;00:00, 123.32ex/s]"
     }
    },
    "a725734893004a45b61194f649f5f602": {
     "model_module": "@jupyter-widgets/controls",
     "model_name": "FloatProgressModel",
     "state": {
      "_dom_classes": [],
      "_model_module": "@jupyter-widgets/controls",
      "_model_module_version": "1.5.0",
      "_model_name": "FloatProgressModel",
      "_view_count": null,
      "_view_module": "@jupyter-widgets/controls",
      "_view_module_version": "1.5.0",
      "_view_name": "ProgressView",
      "bar_style": "success",
      "description": "100%",
      "description_tooltip": null,
      "layout": "IPY_MODEL_afc33fa78b5d440192c435bfca6f7914",
      "max": 1000,
      "min": 0,
      "orientation": "horizontal",
      "style": "IPY_MODEL_4f5b06c3a5e44c6cade5bf83634d9f69",
      "value": 1000
     }
    },
    "aa5c0d374889482697fc0f7ce9c81afe": {
     "model_module": "@jupyter-widgets/controls",
     "model_name": "ProgressStyleModel",
     "state": {
      "_model_module": "@jupyter-widgets/controls",
      "_model_module_version": "1.5.0",
      "_model_name": "ProgressStyleModel",
      "_view_count": null,
      "_view_module": "@jupyter-widgets/base",
      "_view_module_version": "1.2.0",
      "_view_name": "StyleView",
      "bar_color": null,
      "description_width": "initial"
     }
    },
    "afc33fa78b5d440192c435bfca6f7914": {
     "model_module": "@jupyter-widgets/base",
     "model_name": "LayoutModel",
     "state": {
      "_model_module": "@jupyter-widgets/base",
      "_model_module_version": "1.2.0",
      "_model_name": "LayoutModel",
      "_view_count": null,
      "_view_module": "@jupyter-widgets/base",
      "_view_module_version": "1.2.0",
      "_view_name": "LayoutView",
      "align_content": null,
      "align_items": null,
      "align_self": null,
      "border": null,
      "bottom": null,
      "display": null,
      "flex": null,
      "flex_flow": null,
      "grid_area": null,
      "grid_auto_columns": null,
      "grid_auto_flow": null,
      "grid_auto_rows": null,
      "grid_column": null,
      "grid_gap": null,
      "grid_row": null,
      "grid_template_areas": null,
      "grid_template_columns": null,
      "grid_template_rows": null,
      "height": null,
      "justify_content": null,
      "justify_items": null,
      "left": null,
      "margin": null,
      "max_height": null,
      "max_width": null,
      "min_height": null,
      "min_width": null,
      "object_fit": null,
      "object_position": null,
      "order": null,
      "overflow": null,
      "overflow_x": null,
      "overflow_y": null,
      "padding": null,
      "right": null,
      "top": null,
      "visibility": null,
      "width": null
     }
    },
    "afedd2328cf141f78775e4cfa7758267": {
     "model_module": "@jupyter-widgets/base",
     "model_name": "LayoutModel",
     "state": {
      "_model_module": "@jupyter-widgets/base",
      "_model_module_version": "1.2.0",
      "_model_name": "LayoutModel",
      "_view_count": null,
      "_view_module": "@jupyter-widgets/base",
      "_view_module_version": "1.2.0",
      "_view_name": "LayoutView",
      "align_content": null,
      "align_items": null,
      "align_self": null,
      "border": null,
      "bottom": null,
      "display": null,
      "flex": null,
      "flex_flow": null,
      "grid_area": null,
      "grid_auto_columns": null,
      "grid_auto_flow": null,
      "grid_auto_rows": null,
      "grid_column": null,
      "grid_gap": null,
      "grid_row": null,
      "grid_template_areas": null,
      "grid_template_columns": null,
      "grid_template_rows": null,
      "height": null,
      "justify_content": null,
      "justify_items": null,
      "left": null,
      "margin": null,
      "max_height": null,
      "max_width": null,
      "min_height": null,
      "min_width": null,
      "object_fit": null,
      "object_position": null,
      "order": null,
      "overflow": null,
      "overflow_x": null,
      "overflow_y": null,
      "padding": null,
      "right": null,
      "top": null,
      "visibility": null,
      "width": null
     }
    },
    "b39b85d8cb05418aa92e8476ad02f755": {
     "model_module": "@jupyter-widgets/controls",
     "model_name": "FloatProgressModel",
     "state": {
      "_dom_classes": [],
      "_model_module": "@jupyter-widgets/controls",
      "_model_module_version": "1.5.0",
      "_model_name": "FloatProgressModel",
      "_view_count": null,
      "_view_module": "@jupyter-widgets/controls",
      "_view_module_version": "1.5.0",
      "_view_name": "ProgressView",
      "bar_style": "success",
      "description": "100%",
      "description_tooltip": null,
      "layout": "IPY_MODEL_8b961844b5004905922531bd805a9d57",
      "max": 1000,
      "min": 0,
      "orientation": "horizontal",
      "style": "IPY_MODEL_3abb36da57c841838867c56e2a3a325b",
      "value": 1000
     }
    },
    "b4c6a18610734036a16a14a43174c52e": {
     "model_module": "@jupyter-widgets/base",
     "model_name": "LayoutModel",
     "state": {
      "_model_module": "@jupyter-widgets/base",
      "_model_module_version": "1.2.0",
      "_model_name": "LayoutModel",
      "_view_count": null,
      "_view_module": "@jupyter-widgets/base",
      "_view_module_version": "1.2.0",
      "_view_name": "LayoutView",
      "align_content": null,
      "align_items": null,
      "align_self": null,
      "border": null,
      "bottom": null,
      "display": null,
      "flex": null,
      "flex_flow": null,
      "grid_area": null,
      "grid_auto_columns": null,
      "grid_auto_flow": null,
      "grid_auto_rows": null,
      "grid_column": null,
      "grid_gap": null,
      "grid_row": null,
      "grid_template_areas": null,
      "grid_template_columns": null,
      "grid_template_rows": null,
      "height": null,
      "justify_content": null,
      "justify_items": null,
      "left": null,
      "margin": null,
      "max_height": null,
      "max_width": null,
      "min_height": null,
      "min_width": null,
      "object_fit": null,
      "object_position": null,
      "order": null,
      "overflow": null,
      "overflow_x": null,
      "overflow_y": null,
      "padding": null,
      "right": null,
      "top": null,
      "visibility": null,
      "width": null
     }
    },
    "c42644a4e6184a1cbdb2b453b5dbb7d6": {
     "model_module": "@jupyter-widgets/controls",
     "model_name": "HBoxModel",
     "state": {
      "_dom_classes": [],
      "_model_module": "@jupyter-widgets/controls",
      "_model_module_version": "1.5.0",
      "_model_name": "HBoxModel",
      "_view_count": null,
      "_view_module": "@jupyter-widgets/controls",
      "_view_module_version": "1.5.0",
      "_view_name": "HBoxView",
      "box_style": "",
      "children": [
       "IPY_MODEL_e8f1abd85f3e49f991d4c1312ffd416b",
       "IPY_MODEL_929946fdfaa04cf59d3b31cf92fc08d1"
      ],
      "layout": "IPY_MODEL_364ba960eb474c9084cc71851594d345"
     }
    },
    "c4a24656d67844e995d3b8e175c6c497": {
     "model_module": "@jupyter-widgets/controls",
     "model_name": "HTMLModel",
     "state": {
      "_dom_classes": [],
      "_model_module": "@jupyter-widgets/controls",
      "_model_module_version": "1.5.0",
      "_model_name": "HTMLModel",
      "_view_count": null,
      "_view_module": "@jupyter-widgets/controls",
      "_view_module_version": "1.5.0",
      "_view_name": "HTMLView",
      "description": "",
      "description_tooltip": null,
      "layout": "IPY_MODEL_b4c6a18610734036a16a14a43174c52e",
      "placeholder": "​",
      "style": "IPY_MODEL_f37bd346f8614fec92d6c5b5e9b66d2f",
      "value": " 1000/1000 [01:41&lt;00:00,  9.86ex/s]"
     }
    },
    "ca722dcd857c433c9058585e31a1673d": {
     "model_module": "@jupyter-widgets/controls",
     "model_name": "ProgressStyleModel",
     "state": {
      "_model_module": "@jupyter-widgets/controls",
      "_model_module_version": "1.5.0",
      "_model_name": "ProgressStyleModel",
      "_view_count": null,
      "_view_module": "@jupyter-widgets/base",
      "_view_module_version": "1.2.0",
      "_view_name": "StyleView",
      "bar_color": null,
      "description_width": "initial"
     }
    },
    "cda72c45821a4eb89f1a3ab5510b26d3": {
     "model_module": "@jupyter-widgets/base",
     "model_name": "LayoutModel",
     "state": {
      "_model_module": "@jupyter-widgets/base",
      "_model_module_version": "1.2.0",
      "_model_name": "LayoutModel",
      "_view_count": null,
      "_view_module": "@jupyter-widgets/base",
      "_view_module_version": "1.2.0",
      "_view_name": "LayoutView",
      "align_content": null,
      "align_items": null,
      "align_self": null,
      "border": null,
      "bottom": null,
      "display": null,
      "flex": null,
      "flex_flow": null,
      "grid_area": null,
      "grid_auto_columns": null,
      "grid_auto_flow": null,
      "grid_auto_rows": null,
      "grid_column": null,
      "grid_gap": null,
      "grid_row": null,
      "grid_template_areas": null,
      "grid_template_columns": null,
      "grid_template_rows": null,
      "height": null,
      "justify_content": null,
      "justify_items": null,
      "left": null,
      "margin": null,
      "max_height": null,
      "max_width": null,
      "min_height": null,
      "min_width": null,
      "object_fit": null,
      "object_position": null,
      "order": null,
      "overflow": null,
      "overflow_x": null,
      "overflow_y": null,
      "padding": null,
      "right": null,
      "top": null,
      "visibility": null,
      "width": null
     }
    },
    "e592db98c0c34c5e800f5d7b6d3c099e": {
     "model_module": "@jupyter-widgets/base",
     "model_name": "LayoutModel",
     "state": {
      "_model_module": "@jupyter-widgets/base",
      "_model_module_version": "1.2.0",
      "_model_name": "LayoutModel",
      "_view_count": null,
      "_view_module": "@jupyter-widgets/base",
      "_view_module_version": "1.2.0",
      "_view_name": "LayoutView",
      "align_content": null,
      "align_items": null,
      "align_self": null,
      "border": null,
      "bottom": null,
      "display": null,
      "flex": null,
      "flex_flow": null,
      "grid_area": null,
      "grid_auto_columns": null,
      "grid_auto_flow": null,
      "grid_auto_rows": null,
      "grid_column": null,
      "grid_gap": null,
      "grid_row": null,
      "grid_template_areas": null,
      "grid_template_columns": null,
      "grid_template_rows": null,
      "height": null,
      "justify_content": null,
      "justify_items": null,
      "left": null,
      "margin": null,
      "max_height": null,
      "max_width": null,
      "min_height": null,
      "min_width": null,
      "object_fit": null,
      "object_position": null,
      "order": null,
      "overflow": null,
      "overflow_x": null,
      "overflow_y": null,
      "padding": null,
      "right": null,
      "top": null,
      "visibility": null,
      "width": null
     }
    },
    "e8f1abd85f3e49f991d4c1312ffd416b": {
     "model_module": "@jupyter-widgets/controls",
     "model_name": "FloatProgressModel",
     "state": {
      "_dom_classes": [],
      "_model_module": "@jupyter-widgets/controls",
      "_model_module_version": "1.5.0",
      "_model_name": "FloatProgressModel",
      "_view_count": null,
      "_view_module": "@jupyter-widgets/controls",
      "_view_module_version": "1.5.0",
      "_view_name": "ProgressView",
      "bar_style": "success",
      "description": "100%",
      "description_tooltip": null,
      "layout": "IPY_MODEL_ff444b253e9a40e5bec755926d83740f",
      "max": 1000,
      "min": 0,
      "orientation": "horizontal",
      "style": "IPY_MODEL_aa5c0d374889482697fc0f7ce9c81afe",
      "value": 1000
     }
    },
    "ef4e12f29f1e458f811a400faf21bdcc": {
     "model_module": "@jupyter-widgets/controls",
     "model_name": "HTMLModel",
     "state": {
      "_dom_classes": [],
      "_model_module": "@jupyter-widgets/controls",
      "_model_module_version": "1.5.0",
      "_model_name": "HTMLModel",
      "_view_count": null,
      "_view_module": "@jupyter-widgets/controls",
      "_view_module_version": "1.5.0",
      "_view_name": "HTMLView",
      "description": "",
      "description_tooltip": null,
      "layout": "IPY_MODEL_39029f730ae140c7902fca6dac5361ad",
      "placeholder": "​",
      "style": "IPY_MODEL_5b6dbe662ca24834b7678638e101e1ff",
      "value": " 1000/1000 [01:25&lt;00:00, 11.68ex/s]"
     }
    },
    "f0ac3b9b8f664479940c6ee18fc2f13e": {
     "model_module": "@jupyter-widgets/controls",
     "model_name": "HTMLModel",
     "state": {
      "_dom_classes": [],
      "_model_module": "@jupyter-widgets/controls",
      "_model_module_version": "1.5.0",
      "_model_name": "HTMLModel",
      "_view_count": null,
      "_view_module": "@jupyter-widgets/controls",
      "_view_module_version": "1.5.0",
      "_view_name": "HTMLView",
      "description": "",
      "description_tooltip": null,
      "layout": "IPY_MODEL_7fefe9e1121a43558d773500aef8935c",
      "placeholder": "​",
      "style": "IPY_MODEL_568f11b4462f4b4e95f3ad5947bb275e",
      "value": " 1000/1000 [01:24&lt;00:00, 11.77ex/s]"
     }
    },
    "f0e34f2bf626434fa73f0def26b3d1a5": {
     "model_module": "@jupyter-widgets/controls",
     "model_name": "ProgressStyleModel",
     "state": {
      "_model_module": "@jupyter-widgets/controls",
      "_model_module_version": "1.5.0",
      "_model_name": "ProgressStyleModel",
      "_view_count": null,
      "_view_module": "@jupyter-widgets/base",
      "_view_module_version": "1.2.0",
      "_view_name": "StyleView",
      "bar_color": null,
      "description_width": "initial"
     }
    },
    "f37bd346f8614fec92d6c5b5e9b66d2f": {
     "model_module": "@jupyter-widgets/controls",
     "model_name": "DescriptionStyleModel",
     "state": {
      "_model_module": "@jupyter-widgets/controls",
      "_model_module_version": "1.5.0",
      "_model_name": "DescriptionStyleModel",
      "_view_count": null,
      "_view_module": "@jupyter-widgets/base",
      "_view_module_version": "1.2.0",
      "_view_name": "StyleView",
      "description_width": ""
     }
    },
    "ff444b253e9a40e5bec755926d83740f": {
     "model_module": "@jupyter-widgets/base",
     "model_name": "LayoutModel",
     "state": {
      "_model_module": "@jupyter-widgets/base",
      "_model_module_version": "1.2.0",
      "_model_name": "LayoutModel",
      "_view_count": null,
      "_view_module": "@jupyter-widgets/base",
      "_view_module_version": "1.2.0",
      "_view_name": "LayoutView",
      "align_content": null,
      "align_items": null,
      "align_self": null,
      "border": null,
      "bottom": null,
      "display": null,
      "flex": null,
      "flex_flow": null,
      "grid_area": null,
      "grid_auto_columns": null,
      "grid_auto_flow": null,
      "grid_auto_rows": null,
      "grid_column": null,
      "grid_gap": null,
      "grid_row": null,
      "grid_template_areas": null,
      "grid_template_columns": null,
      "grid_template_rows": null,
      "height": null,
      "justify_content": null,
      "justify_items": null,
      "left": null,
      "margin": null,
      "max_height": null,
      "max_width": null,
      "min_height": null,
      "min_width": null,
      "object_fit": null,
      "object_position": null,
      "order": null,
      "overflow": null,
      "overflow_x": null,
      "overflow_y": null,
      "padding": null,
      "right": null,
      "top": null,
      "visibility": null,
      "width": null
     }
    }
   }
  }
 },
 "nbformat": 4,
 "nbformat_minor": 4
}
